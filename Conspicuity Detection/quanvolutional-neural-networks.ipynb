{
 "cells": [
  {
   "cell_type": "markdown",
   "id": "d079f3c3",
   "metadata": {},
   "source": [
    "# Quanvolutional Neural Network"
   ]
  },
  {
   "cell_type": "markdown",
   "id": "47192c6e",
   "metadata": {},
   "source": [
    "This notebook is based on the use of [Quanvolutional Neural Networks](https://arxiv.org/abs/1904.04767) for the image classification task. \n",
    "\n",
    "It uses a basic quantum circuit with random layers , in order to form the Quanvolutional layer. The training images, have to be first transformed using this layer, before being fed into the network. This process is particularly time consuming to be carried out on a classical CPU.\n",
    "\n",
    "The quanv layer process images in fields of size of 4X4 and stride 4, in order to capture spatial information, along with making sure the computation does not become too expensive.\n",
    "\n",
    "The result to this is then fed into a classical Neural network, to generate outputs. The classical model is also fed with non processed output to later coampare the results.\n",
    "\n",
    "The results are primarily evaluated on the basis of F1 score, rather than accuracy due to class imbalance. The F1 score gives better idea about the false negatives, and false positives that the model genrates. Escpecially, the False Negatives(that is the model misclassifies 1 as 0, or defective as non defective), are undesirable in production monitoring, as we must make sure that the defects are successfully detected."
   ]
  },
  {
   "cell_type": "code",
   "execution_count": 1,
   "id": "86c0e201",
   "metadata": {
    "execution": {
     "iopub.execute_input": "2024-08-08T12:29:51.906921Z",
     "iopub.status.busy": "2024-08-08T12:29:51.906529Z",
     "iopub.status.idle": "2024-08-08T12:30:12.929962Z",
     "shell.execute_reply": "2024-08-08T12:30:12.928550Z"
    },
    "papermill": {
     "duration": 21.048688,
     "end_time": "2024-08-08T12:30:12.933116",
     "exception": false,
     "start_time": "2024-08-08T12:29:51.884428",
     "status": "completed"
    },
    "tags": []
   },
   "outputs": [
    {
     "name": "stdout",
     "output_type": "stream",
     "text": [
      "Collecting pennylane\r\n",
      "  Downloading PennyLane-0.37.0-py3-none-any.whl.metadata (9.3 kB)\r\n",
      "Requirement already satisfied: numpy<2.0 in /opt/conda/lib/python3.10/site-packages (from pennylane) (1.26.4)\r\n",
      "Requirement already satisfied: scipy in /opt/conda/lib/python3.10/site-packages (from pennylane) (1.11.4)\r\n",
      "Requirement already satisfied: networkx in /opt/conda/lib/python3.10/site-packages (from pennylane) (3.2.1)\r\n",
      "Collecting rustworkx (from pennylane)\r\n",
      "  Downloading rustworkx-0.15.1-cp38-abi3-manylinux_2_17_x86_64.manylinux2014_x86_64.whl.metadata (9.9 kB)\r\n",
      "Collecting autograd (from pennylane)\r\n",
      "  Downloading autograd-1.6.2-py3-none-any.whl.metadata (706 bytes)\r\n",
      "Requirement already satisfied: toml in /opt/conda/lib/python3.10/site-packages (from pennylane) (0.10.2)\r\n",
      "Collecting appdirs (from pennylane)\r\n",
      "  Downloading appdirs-1.4.4-py2.py3-none-any.whl.metadata (9.0 kB)\r\n",
      "Collecting semantic-version>=2.7 (from pennylane)\r\n",
      "  Downloading semantic_version-2.10.0-py2.py3-none-any.whl.metadata (9.7 kB)\r\n",
      "Collecting autoray>=0.6.11 (from pennylane)\r\n",
      "  Downloading autoray-0.6.12-py3-none-any.whl.metadata (5.7 kB)\r\n",
      "Requirement already satisfied: cachetools in /opt/conda/lib/python3.10/site-packages (from pennylane) (4.2.4)\r\n",
      "Collecting pennylane-lightning>=0.37 (from pennylane)\r\n",
      "  Downloading PennyLane_Lightning-0.37.0-cp310-cp310-manylinux_2_28_x86_64.whl.metadata (23 kB)\r\n",
      "Requirement already satisfied: requests in /opt/conda/lib/python3.10/site-packages (from pennylane) (2.32.3)\r\n",
      "Requirement already satisfied: typing-extensions in /opt/conda/lib/python3.10/site-packages (from pennylane) (4.9.0)\r\n",
      "Requirement already satisfied: packaging in /opt/conda/lib/python3.10/site-packages (from pennylane) (21.3)\r\n",
      "Requirement already satisfied: future>=0.15.2 in /opt/conda/lib/python3.10/site-packages (from autograd->pennylane) (1.0.0)\r\n",
      "Requirement already satisfied: pyparsing!=3.0.5,>=2.0.2 in /opt/conda/lib/python3.10/site-packages (from packaging->pennylane) (3.1.1)\r\n",
      "Requirement already satisfied: charset-normalizer<4,>=2 in /opt/conda/lib/python3.10/site-packages (from requests->pennylane) (3.3.2)\r\n",
      "Requirement already satisfied: idna<4,>=2.5 in /opt/conda/lib/python3.10/site-packages (from requests->pennylane) (3.6)\r\n",
      "Requirement already satisfied: urllib3<3,>=1.21.1 in /opt/conda/lib/python3.10/site-packages (from requests->pennylane) (1.26.18)\r\n",
      "Requirement already satisfied: certifi>=2017.4.17 in /opt/conda/lib/python3.10/site-packages (from requests->pennylane) (2024.7.4)\r\n",
      "Downloading PennyLane-0.37.0-py3-none-any.whl (1.8 MB)\r\n",
      "\u001b[2K   \u001b[90m━━━━━━━━━━━━━━━━━━━━━━━━━━━━━━━━━━━━━━━━\u001b[0m \u001b[32m1.8/1.8 MB\u001b[0m \u001b[31m36.3 MB/s\u001b[0m eta \u001b[36m0:00:00\u001b[0m\r\n",
      "\u001b[?25hDownloading autoray-0.6.12-py3-none-any.whl (50 kB)\r\n",
      "\u001b[2K   \u001b[90m━━━━━━━━━━━━━━━━━━━━━━━━━━━━━━━━━━━━━━━━\u001b[0m \u001b[32m51.0/51.0 kB\u001b[0m \u001b[31m2.3 MB/s\u001b[0m eta \u001b[36m0:00:00\u001b[0m\r\n",
      "\u001b[?25hDownloading PennyLane_Lightning-0.37.0-cp310-cp310-manylinux_2_28_x86_64.whl (15.5 MB)\r\n",
      "\u001b[2K   \u001b[90m━━━━━━━━━━━━━━━━━━━━━━━━━━━━━━━━━━━━━━━━\u001b[0m \u001b[32m15.5/15.5 MB\u001b[0m \u001b[31m33.9 MB/s\u001b[0m eta \u001b[36m0:00:00\u001b[0m\r\n",
      "\u001b[?25hDownloading semantic_version-2.10.0-py2.py3-none-any.whl (15 kB)\r\n",
      "Downloading appdirs-1.4.4-py2.py3-none-any.whl (9.6 kB)\r\n",
      "Downloading autograd-1.6.2-py3-none-any.whl (49 kB)\r\n",
      "\u001b[2K   \u001b[90m━━━━━━━━━━━━━━━━━━━━━━━━━━━━━━━━━━━━━━━━\u001b[0m \u001b[32m49.3/49.3 kB\u001b[0m \u001b[31m1.8 MB/s\u001b[0m eta \u001b[36m0:00:00\u001b[0m\r\n",
      "\u001b[?25hDownloading rustworkx-0.15.1-cp38-abi3-manylinux_2_17_x86_64.manylinux2014_x86_64.whl (2.0 MB)\r\n",
      "\u001b[2K   \u001b[90m━━━━━━━━━━━━━━━━━━━━━━━━━━━━━━━━━━━━━━━━\u001b[0m \u001b[32m2.0/2.0 MB\u001b[0m \u001b[31m48.4 MB/s\u001b[0m eta \u001b[36m0:00:00\u001b[0m\r\n",
      "\u001b[?25hInstalling collected packages: appdirs, semantic-version, rustworkx, autoray, autograd, pennylane-lightning, pennylane\r\n",
      "Successfully installed appdirs-1.4.4 autograd-1.6.2 autoray-0.6.12 pennylane-0.37.0 pennylane-lightning-0.37.0 rustworkx-0.15.1 semantic-version-2.10.0\r\n"
     ]
    }
   ],
   "source": [
    "!pip install pennylane"
   ]
  },
  {
   "cell_type": "markdown",
   "id": "9fb305be",
   "metadata": {
    "papermill": {
     "duration": 0.025535,
     "end_time": "2024-08-08T12:30:13.030878",
     "exception": false,
     "start_time": "2024-08-08T12:30:13.005343",
     "status": "completed"
    },
    "tags": []
   },
   "source": [
    "# Data Loading"
   ]
  },
  {
   "cell_type": "markdown",
   "id": "8928e7a8",
   "metadata": {
    "papermill": {
     "duration": 0.022151,
     "end_time": "2024-08-08T12:30:13.075658",
     "exception": false,
     "start_time": "2024-08-08T12:30:13.053507",
     "status": "completed"
    },
    "tags": []
   },
   "source": [
    "Loading the data from the csv files"
   ]
  },
  {
   "cell_type": "code",
   "execution_count": 2,
   "id": "a4bfdb35",
   "metadata": {
    "execution": {
     "iopub.execute_input": "2024-08-08T12:30:13.123416Z",
     "iopub.status.busy": "2024-08-08T12:30:13.122906Z",
     "iopub.status.idle": "2024-08-08T12:30:31.599497Z",
     "shell.execute_reply": "2024-08-08T12:30:31.598079Z"
    },
    "papermill": {
     "duration": 18.504109,
     "end_time": "2024-08-08T12:30:31.602394",
     "exception": false,
     "start_time": "2024-08-08T12:30:13.098285",
     "status": "completed"
    },
    "tags": []
   },
   "outputs": [
    {
     "name": "stderr",
     "output_type": "stream",
     "text": [
      "2024-08-08 12:30:15.442310: E external/local_xla/xla/stream_executor/cuda/cuda_dnn.cc:9261] Unable to register cuDNN factory: Attempting to register factory for plugin cuDNN when one has already been registered\n",
      "2024-08-08 12:30:15.442487: E external/local_xla/xla/stream_executor/cuda/cuda_fft.cc:607] Unable to register cuFFT factory: Attempting to register factory for plugin cuFFT when one has already been registered\n",
      "2024-08-08 12:30:15.606684: E external/local_xla/xla/stream_executor/cuda/cuda_blas.cc:1515] Unable to register cuBLAS factory: Attempting to register factory for plugin cuBLAS when one has already been registered\n"
     ]
    }
   ],
   "source": [
    "import os\n",
    "import json\n",
    "import numpy as np\n",
    "import tensorflow as tf\n",
    "from sklearn.model_selection import train_test_split\n",
    "\n",
    "base_dir = '/kaggle/input/tig-aluminium-5083/al5083'\n",
    "train_dir = os.path.join(base_dir, 'train')\n",
    "test_dir = os.path.join(base_dir, 'test')\n",
    "\n",
    "train_json_path = os.path.join(train_dir, 'train.json')\n",
    "\n",
    "with open(train_json_path, 'r') as f:\n",
    "    train_data = json.load(f)\n"
   ]
  },
  {
   "cell_type": "markdown",
   "id": "0e5a2638",
   "metadata": {
    "papermill": {
     "duration": 0.024351,
     "end_time": "2024-08-08T12:30:31.649706",
     "exception": false,
     "start_time": "2024-08-08T12:30:31.625355",
     "status": "completed"
    },
    "tags": []
   },
   "source": [
    "# Test data Loading"
   ]
  },
  {
   "cell_type": "markdown",
   "id": "f8bacce5",
   "metadata": {
    "papermill": {
     "duration": 0.022366,
     "end_time": "2024-08-08T12:30:31.695806",
     "exception": false,
     "start_time": "2024-08-08T12:30:31.673440",
     "status": "completed"
    },
    "tags": []
   },
   "source": [
    "Loading the test data for inference later on"
   ]
  },
  {
   "cell_type": "code",
   "execution_count": 3,
   "id": "8a2f1f70",
   "metadata": {
    "execution": {
     "iopub.execute_input": "2024-08-08T12:30:31.743342Z",
     "iopub.status.busy": "2024-08-08T12:30:31.742539Z",
     "iopub.status.idle": "2024-08-08T12:31:19.727095Z",
     "shell.execute_reply": "2024-08-08T12:31:19.724280Z"
    },
    "papermill": {
     "duration": 48.013148,
     "end_time": "2024-08-08T12:31:19.731412",
     "exception": false,
     "start_time": "2024-08-08T12:30:31.718264",
     "status": "completed"
    },
    "tags": []
   },
   "outputs": [],
   "source": [
    "\n",
    "test_json_path = os.path.join(test_dir, 'test.json')\n",
    "\n",
    "with open(test_json_path, 'r') as f:\n",
    "    test_data = json.load(f)\n",
    "\n",
    "def load_and_preprocess_image(image_path, img_size=(64, 64)):\n",
    "    img = tf.keras.preprocessing.image.load_img(image_path, target_size=img_size)\n",
    "    img = tf.keras.preprocessing.image.img_to_array(img)\n",
    "    img = img / 255.0  # Normalize to [0, 1]\n",
    "    img = img.flatten()  # Flatten the image to a 1D array\n",
    "    return img\n",
    "\n",
    "image_paths = []\n",
    "labels = []\n",
    "for image_path, label in train_data.items():\n",
    "    if label in [0, 1,2,3,4,5]:  \n",
    "        full_image_path = os.path.join(train_dir, image_path)\n",
    "        if os.path.exists(full_image_path): \n",
    "            image_paths.append(full_image_path)\n",
    "            if label in [2,3,4,5]:\n",
    "                labels.append(1)\n",
    "            else:\n",
    "                labels.append(label)\n",
    "\n"
   ]
  },
  {
   "cell_type": "markdown",
   "id": "ecddf79e",
   "metadata": {
    "papermill": {
     "duration": 0.023959,
     "end_time": "2024-08-08T12:31:19.780306",
     "exception": false,
     "start_time": "2024-08-08T12:31:19.756347",
     "status": "completed"
    },
    "tags": []
   },
   "source": [
    "# Training Data Loading"
   ]
  },
  {
   "cell_type": "code",
   "execution_count": 4,
   "id": "1b9aaca4",
   "metadata": {
    "execution": {
     "iopub.execute_input": "2024-08-08T12:31:19.834430Z",
     "iopub.status.busy": "2024-08-08T12:31:19.833991Z",
     "iopub.status.idle": "2024-08-08T12:31:34.743423Z",
     "shell.execute_reply": "2024-08-08T12:31:34.741950Z"
    },
    "papermill": {
     "duration": 14.940663,
     "end_time": "2024-08-08T12:31:34.746571",
     "exception": false,
     "start_time": "2024-08-08T12:31:19.805908",
     "status": "completed"
    },
    "tags": []
   },
   "outputs": [],
   "source": [
    "def load_and_preprocess_image(image_path,image_size=(64,64)):\n",
    "    img = tf.keras.preprocessing.image.load_img(image_path,target_size=image_size)\n",
    "    img = tf.keras.preprocessing.image.img_to_array(img)\n",
    "    img = img / 255.0\n",
    "    return img\n",
    "\n",
    "image_paths = []\n",
    "labels = []\n",
    "for image_path, label in train_data.items():\n",
    "    if label in [0, 1,2,3,4,5]:  \n",
    "        full_image_path = os.path.join(train_dir, image_path)\n",
    "        if os.path.exists(full_image_path): \n",
    "            image_paths.append(full_image_path)\n",
    "            if label in [2,3,4,5]:\n",
    "                labels.append(1)\n",
    "            else:\n",
    "                labels.append(label)"
   ]
  },
  {
   "cell_type": "markdown",
   "id": "f2f11890",
   "metadata": {
    "papermill": {
     "duration": 0.024516,
     "end_time": "2024-08-08T12:31:34.795280",
     "exception": false,
     "start_time": "2024-08-08T12:31:34.770764",
     "status": "completed"
    },
    "tags": []
   },
   "source": [
    "# Preprocessing using Quonvolution"
   ]
  },
  {
   "cell_type": "code",
   "execution_count": 5,
   "id": "98377670",
   "metadata": {
    "execution": {
     "iopub.execute_input": "2024-08-08T12:31:34.844305Z",
     "iopub.status.busy": "2024-08-08T12:31:34.843224Z",
     "iopub.status.idle": "2024-08-08T12:39:10.145928Z",
     "shell.execute_reply": "2024-08-08T12:39:10.144278Z"
    },
    "papermill": {
     "duration": 455.330992,
     "end_time": "2024-08-08T12:39:10.149311",
     "exception": false,
     "start_time": "2024-08-08T12:31:34.818319",
     "status": "completed"
    },
    "tags": []
   },
   "outputs": [],
   "source": [
    "images=np.array([load_and_preprocess_image(img_path) for img_path in image_paths])\n",
    "labels=np.array(labels)"
   ]
  },
  {
   "cell_type": "code",
   "execution_count": 6,
   "id": "1ec0e69a",
   "metadata": {
    "execution": {
     "iopub.execute_input": "2024-08-08T12:39:10.198686Z",
     "iopub.status.busy": "2024-08-08T12:39:10.197354Z",
     "iopub.status.idle": "2024-08-08T12:39:10.570843Z",
     "shell.execute_reply": "2024-08-08T12:39:10.569111Z"
    },
    "papermill": {
     "duration": 0.402156,
     "end_time": "2024-08-08T12:39:10.574406",
     "exception": false,
     "start_time": "2024-08-08T12:39:10.172250",
     "status": "completed"
    },
    "tags": []
   },
   "outputs": [],
   "source": [
    "X_train, X_val, y_train, y_val = train_test_split(images, labels, test_size=0.3, random_state=42)"
   ]
  },
  {
   "cell_type": "code",
   "execution_count": 7,
   "id": "7f6bca4a",
   "metadata": {
    "execution": {
     "iopub.execute_input": "2024-08-08T12:39:10.622936Z",
     "iopub.status.busy": "2024-08-08T12:39:10.622506Z",
     "iopub.status.idle": "2024-08-08T12:39:10.630292Z",
     "shell.execute_reply": "2024-08-08T12:39:10.628819Z"
    },
    "papermill": {
     "duration": 0.035193,
     "end_time": "2024-08-08T12:39:10.632956",
     "exception": false,
     "start_time": "2024-08-08T12:39:10.597763",
     "status": "completed"
    },
    "tags": []
   },
   "outputs": [],
   "source": [
    "n_epochs = 10  \n",
    "n_train = X_train.shape[0]   \n",
    "n_test = X_val.shape[0]   \n",
    "SAVE_PATH = \"kaggle/quanvolution/\"  # Data saving folder\n",
    "PREPROCESS =False       # If False, skip quantum processing and load data from SAVE_PATH\n",
    "np.random.seed(0)    \n",
    "tf.random.set_seed(0)   "
   ]
  },
  {
   "cell_type": "code",
   "execution_count": 8,
   "id": "0ca2da88",
   "metadata": {
    "execution": {
     "iopub.execute_input": "2024-08-08T12:39:10.680688Z",
     "iopub.status.busy": "2024-08-08T12:39:10.680286Z",
     "iopub.status.idle": "2024-08-08T12:39:12.635058Z",
     "shell.execute_reply": "2024-08-08T12:39:12.633777Z"
    },
    "papermill": {
     "duration": 1.981839,
     "end_time": "2024-08-08T12:39:12.638056",
     "exception": false,
     "start_time": "2024-08-08T12:39:10.656217",
     "status": "completed"
    },
    "tags": []
   },
   "outputs": [],
   "source": [
    "import pennylane as qml\n",
    "from pennylane import numpy as np\n",
    "from pennylane.templates import RandomLayers\n",
    "import tensorflow as tf\n",
    "from tensorflow import keras\n",
    "import matplotlib.pyplot as plt"
   ]
  },
  {
   "cell_type": "code",
   "execution_count": 9,
   "id": "1ee579bd",
   "metadata": {
    "execution": {
     "iopub.execute_input": "2024-08-08T12:39:12.685969Z",
     "iopub.status.busy": "2024-08-08T12:39:12.685524Z",
     "iopub.status.idle": "2024-08-08T12:39:12.707825Z",
     "shell.execute_reply": "2024-08-08T12:39:12.706631Z"
    },
    "papermill": {
     "duration": 0.049322,
     "end_time": "2024-08-08T12:39:12.710664",
     "exception": false,
     "start_time": "2024-08-08T12:39:12.661342",
     "status": "completed"
    },
    "tags": []
   },
   "outputs": [],
   "source": [
    "import pennylane as qml\n",
    "import numpy as np\n",
    "\n",
    "n_qubits = 16\n",
    "n_layers = 3\n",
    "dev = qml.device(\"lightning.qubit\", wires=n_qubits)# Using lightning to speed up the process\n",
    "rand_params = np.random.uniform(high=2 * np.pi, size=(n_layers, n_qubits))\n",
    "\n",
    "@qml.qnode(dev)\n",
    "def circuit(phi):\n",
    "    for j in range(n_qubits):\n",
    "        qml.RY(np.pi * phi[j], wires=j)\n",
    "    qml.templates.layers.RandomLayers(rand_params, wires=list(range(n_qubits)))\n",
    "    return [qml.expval(qml.PauliZ(j)) for j in range(n_qubits)]"
   ]
  },
  {
   "cell_type": "markdown",
   "id": "df500e3b",
   "metadata": {
    "papermill": {
     "duration": 0.022794,
     "end_time": "2024-08-08T12:39:12.757210",
     "exception": false,
     "start_time": "2024-08-08T12:39:12.734416",
     "status": "completed"
    },
    "tags": []
   },
   "source": [
    "**This part is our Quanvolutional layer, the heart of this approach**"
   ]
  },
  {
   "cell_type": "code",
   "execution_count": 10,
   "id": "b618038c",
   "metadata": {
    "execution": {
     "iopub.execute_input": "2024-08-08T12:39:12.807102Z",
     "iopub.status.busy": "2024-08-08T12:39:12.806630Z",
     "iopub.status.idle": "2024-08-08T12:39:12.819025Z",
     "shell.execute_reply": "2024-08-08T12:39:12.817679Z"
    },
    "papermill": {
     "duration": 0.039215,
     "end_time": "2024-08-08T12:39:12.821629",
     "exception": false,
     "start_time": "2024-08-08T12:39:12.782414",
     "status": "completed"
    },
    "tags": []
   },
   "outputs": [],
   "source": [
    "import numpy as np\n",
    "\n",
    "def quanv(image):\n",
    "    out = np.zeros((16, 16, 4)) \n",
    "\n",
    "    # Loop over the coordinates of the top-left pixel of 4x4 squares with stride 4\n",
    "    for j in range(0, 61, 4):\n",
    "        for k in range(0, 61, 4):\n",
    "            if j + 3 < 64 and k + 3 < 64:\n",
    "                # Processing a squared 4x4 region of the image with a quantum circuit\n",
    "                q_results = circuit(\n",
    "                    [\n",
    "                        image[j, k, 0],\n",
    "                        image[j, k + 1, 0],\n",
    "                        image[j, k + 2, 0],\n",
    "                        image[j, k + 3, 0],\n",
    "                        image[j + 1, k, 0],\n",
    "                        image[j + 1, k + 1, 0],\n",
    "                        image[j + 1, k + 2, 0],\n",
    "                        image[j + 1, k + 3, 0],\n",
    "                        image[j + 2, k, 0],\n",
    "                        image[j + 2, k + 1, 0],\n",
    "                        image[j + 2, k + 2, 0],\n",
    "                        image[j + 2, k + 3, 0],\n",
    "                        image[j + 3, k, 0],\n",
    "                        image[j + 3, k + 1, 0],\n",
    "                        image[j + 3, k + 2, 0],\n",
    "                        image[j + 3, k + 3, 0]\n",
    "                    ]\n",
    "                )\n",
    "                # Assigning expectation values to different channels of the output pixel (j/4, k/4)\n",
    "                for c in range(4):\n",
    "                    out[j // 4, k // 4, c] = q_results[c]\n",
    "    return out\n"
   ]
  },
  {
   "cell_type": "code",
   "execution_count": 11,
   "id": "462fa79c",
   "metadata": {
    "execution": {
     "iopub.execute_input": "2024-08-08T12:39:12.869654Z",
     "iopub.status.busy": "2024-08-08T12:39:12.869219Z",
     "iopub.status.idle": "2024-08-08T12:39:12.874757Z",
     "shell.execute_reply": "2024-08-08T12:39:12.873464Z"
    },
    "papermill": {
     "duration": 0.03327,
     "end_time": "2024-08-08T12:39:12.877356",
     "exception": false,
     "start_time": "2024-08-08T12:39:12.844086",
     "status": "completed"
    },
    "tags": []
   },
   "outputs": [],
   "source": [
    "from pennylane import numpy as np"
   ]
  },
  {
   "cell_type": "markdown",
   "id": "22485249",
   "metadata": {
    "papermill": {
     "duration": 0.023361,
     "end_time": "2024-08-08T12:39:12.992012",
     "exception": false,
     "start_time": "2024-08-08T12:39:12.968651",
     "status": "completed"
    },
    "tags": []
   },
   "source": [
    "Here I proceesed images in the batches of 2000, due to contraints in computational power"
   ]
  },
  {
   "cell_type": "code",
   "execution_count": 12,
   "id": "fe22b54e",
   "metadata": {
    "execution": {
     "iopub.execute_input": "2024-08-08T12:39:13.040946Z",
     "iopub.status.busy": "2024-08-08T12:39:13.040513Z",
     "iopub.status.idle": "2024-08-08T12:39:13.050083Z",
     "shell.execute_reply": "2024-08-08T12:39:13.048345Z"
    },
    "papermill": {
     "duration": 0.037005,
     "end_time": "2024-08-08T12:39:13.052813",
     "exception": false,
     "start_time": "2024-08-08T12:39:13.015808",
     "status": "completed"
    },
    "tags": []
   },
   "outputs": [
    {
     "data": {
      "text/plain": [
       "'train_images=X_train[6000:8000]\\ntest_images=X_val[:2000]\\ntrain_images = np.array(train_images[..., tf.newaxis], requires_grad=False)\\ntest_images = np.array(test_images[..., tf.newaxis], requires_grad=False)\\ntrain_labels=y_train[6000:8000]\\ntest_labels=y_val[:2000]'"
      ]
     },
     "execution_count": 12,
     "metadata": {},
     "output_type": "execute_result"
    }
   ],
   "source": [
    "\"\"\"train_images=X_train[start_index:end_index]\n",
    "test_images=X_val[:2000]\n",
    "train_images = np.array(train_images[..., tf.newaxis], requires_grad=False)\n",
    "test_images = np.array(test_images[..., tf.newaxis], requires_grad=False)\n",
    "train_labels=y_train[start_index:end_index]\n",
    "test_labels=y_val[:2000]\"\"\""
   ]
  },
  {
   "cell_type": "code",
   "execution_count": 13,
   "id": "92e1d3ff",
   "metadata": {
    "execution": {
     "iopub.execute_input": "2024-08-08T12:39:13.100826Z",
     "iopub.status.busy": "2024-08-08T12:39:13.100458Z",
     "iopub.status.idle": "2024-08-08T12:39:14.095743Z",
     "shell.execute_reply": "2024-08-08T12:39:14.093858Z"
    },
    "papermill": {
     "duration": 1.023116,
     "end_time": "2024-08-08T12:39:14.099367",
     "exception": false,
     "start_time": "2024-08-08T12:39:13.076251",
     "status": "completed"
    },
    "tags": []
   },
   "outputs": [],
   "source": [
    "if PREPROCESS == True:\n",
    "    q_train_images = []\n",
    "    print(\"Quantum pre-processing of train images:\")\n",
    "    for idx, img in enumerate(train_images):\n",
    "        print(\"{}/{}        \".format(idx + 1,end_index-start_index))\n",
    "        q_train_images.append(quanv(img))\n",
    "    q_train_images = np.asarray(q_train_images)\n",
    "    np.save(\"q_train_images.npy\", q_train_images)\n",
    "    np.save(\"Train_labels\",y_train)\n",
    "    q_test_images = []\n",
    "    print(\"\\nQuantum pre-processing of test images:\")\n",
    "    for idx, img in enumerate(test_images):\n",
    "        print(\"{}/{}        \".format(idx + 1,2000))\n",
    "        q_test_images.append(quanv(img))\n",
    "    q_test_images = np.asarray(q_test_images)\n",
    "    np.save(\"Train_labels\",y_train)\n",
    "    np.save(\"test_labels\",y_val)\n",
    "\n",
    "\n",
    "# Loading pre-processed images\n",
    "q_train_images = np.load(\"/kaggle/input/0-2000-train-valid/q_train_images.npy\")\n",
    "q_test_images = np.load(\"/kaggle/input/0-2000-train-valid/q_test_images.npy\")\n",
    "train_2_4=np.load(\"/kaggle/input/2000-4000/q_train_images.npy\")\n",
    "train_4_6=np.load(\"/kaggle/input/4000-6000/q_train_images.npy\")\n",
    "train_6_8=np.load(\"/kaggle/input/6000-8000/q_train_images.npy\")\n",
    "\n",
    "train_labels=np.load(\"/kaggle/input/0-2000-train-valid/Train_labels.npy\")\n",
    "train_labels24=np.load(\"/kaggle/input/2000-4000/Train_labels.npy\")\n",
    "train_labels46=np.load(\"/kaggle/input/4000-6000/Train_labels.npy\")\n",
    "train_labels68=np.load(\"/kaggle/input/6000-8000/Train_labels.npy\")\n",
    "test_labels=np.load(\"/kaggle/input/0-2000-train-valid/test_labels.npy\")[:2000]"
   ]
  },
  {
   "cell_type": "code",
   "execution_count": 14,
   "id": "833a8815",
   "metadata": {
    "execution": {
     "iopub.execute_input": "2024-08-08T12:39:14.150107Z",
     "iopub.status.busy": "2024-08-08T12:39:14.149663Z",
     "iopub.status.idle": "2024-08-08T12:39:14.170971Z",
     "shell.execute_reply": "2024-08-08T12:39:14.169738Z"
    },
    "papermill": {
     "duration": 0.049885,
     "end_time": "2024-08-08T12:39:14.174769",
     "exception": false,
     "start_time": "2024-08-08T12:39:14.124884",
     "status": "completed"
    },
    "tags": []
   },
   "outputs": [],
   "source": [
    "q_train_images = np.concatenate((q_train_images, train_2_4, train_4_6, train_6_8), axis=0)\n",
    "q_train_labels = np.concatenate((train_labels, train_labels24, train_labels46, train_labels68), axis=0)\n",
    "q_train_labels=train_labels[:8000]"
   ]
  },
  {
   "cell_type": "code",
   "execution_count": 15,
   "id": "4df952a9",
   "metadata": {
    "execution": {
     "iopub.execute_input": "2024-08-08T12:39:14.224457Z",
     "iopub.status.busy": "2024-08-08T12:39:14.224029Z",
     "iopub.status.idle": "2024-08-08T12:39:14.230821Z",
     "shell.execute_reply": "2024-08-08T12:39:14.229357Z"
    },
    "papermill": {
     "duration": 0.034523,
     "end_time": "2024-08-08T12:39:14.233626",
     "exception": false,
     "start_time": "2024-08-08T12:39:14.199103",
     "status": "completed"
    },
    "tags": []
   },
   "outputs": [
    {
     "name": "stdout",
     "output_type": "stream",
     "text": [
      "Combined train images shape: (8000, 16, 16, 4)\n",
      "Combined train labels shape: (8000,)\n"
     ]
    }
   ],
   "source": [
    "# Verifying the shapes\n",
    "print(\"Combined train images shape:\", q_train_images.shape)\n",
    "print(\"Combined train labels shape:\", q_train_labels.shape)"
   ]
  },
  {
   "cell_type": "markdown",
   "id": "cec350f6",
   "metadata": {
    "papermill": {
     "duration": 0.023581,
     "end_time": "2024-08-08T12:39:14.281880",
     "exception": false,
     "start_time": "2024-08-08T12:39:14.258299",
     "status": "completed"
    },
    "tags": []
   },
   "source": [
    "The classical Model used here is very basic one, with just an input layer,and the output layer."
   ]
  },
  {
   "cell_type": "code",
   "execution_count": 16,
   "id": "08949d61",
   "metadata": {
    "execution": {
     "iopub.execute_input": "2024-08-08T12:39:14.329281Z",
     "iopub.status.busy": "2024-08-08T12:39:14.328848Z",
     "iopub.status.idle": "2024-08-08T12:39:14.337590Z",
     "shell.execute_reply": "2024-08-08T12:39:14.336464Z"
    },
    "papermill": {
     "duration": 0.035477,
     "end_time": "2024-08-08T12:39:14.340201",
     "exception": false,
     "start_time": "2024-08-08T12:39:14.304724",
     "status": "completed"
    },
    "tags": []
   },
   "outputs": [],
   "source": [
    "def ClassicalModel():\n",
    "    model = keras.models.Sequential([\n",
    "        keras.layers.InputLayer(input_shape=(16, 16, 4)),\n",
    "        keras.layers.Flatten(),\n",
    "        keras.layers.Dense(2, activation=\"softmax\")\n",
    "    ])\n",
    "\n",
    "    model.compile(\n",
    "        optimizer='adam',\n",
    "        loss=\"sparse_categorical_crossentropy\",\n",
    "        metrics=[\"accuracy\"],\n",
    "    )\n",
    "    return model"
   ]
  },
  {
   "cell_type": "markdown",
   "id": "b9841532",
   "metadata": {
    "papermill": {
     "duration": 0.024401,
     "end_time": "2024-08-08T12:39:14.387327",
     "exception": false,
     "start_time": "2024-08-08T12:39:14.362926",
     "status": "completed"
    },
    "tags": []
   },
   "source": [
    "**Training model with Quantum Model**"
   ]
  },
  {
   "cell_type": "code",
   "execution_count": 17,
   "id": "fde5b15c",
   "metadata": {
    "execution": {
     "iopub.execute_input": "2024-08-08T12:39:14.436015Z",
     "iopub.status.busy": "2024-08-08T12:39:14.435547Z",
     "iopub.status.idle": "2024-08-08T12:39:25.463390Z",
     "shell.execute_reply": "2024-08-08T12:39:25.461658Z"
    },
    "papermill": {
     "duration": 11.056205,
     "end_time": "2024-08-08T12:39:25.466416",
     "exception": false,
     "start_time": "2024-08-08T12:39:14.410211",
     "status": "completed"
    },
    "tags": []
   },
   "outputs": [
    {
     "name": "stderr",
     "output_type": "stream",
     "text": [
      "/opt/conda/lib/python3.10/site-packages/keras/src/layers/core/input_layer.py:26: UserWarning: Argument `input_shape` is deprecated. Use `shape` instead.\n",
      "  warnings.warn(\n"
     ]
    },
    {
     "name": "stdout",
     "output_type": "stream",
     "text": [
      "Epoch 1/10\n",
      "500/500 - 2s - 4ms/step - accuracy: 0.8511 - loss: 0.3616 - val_accuracy: 0.8760 - val_loss: 0.2986\n",
      "Epoch 2/10\n",
      "500/500 - 1s - 2ms/step - accuracy: 0.8972 - loss: 0.2658 - val_accuracy: 0.8905 - val_loss: 0.2614\n",
      "Epoch 3/10\n",
      "500/500 - 1s - 2ms/step - accuracy: 0.9084 - loss: 0.2350 - val_accuracy: 0.9020 - val_loss: 0.2356\n",
      "Epoch 4/10\n",
      "500/500 - 1s - 2ms/step - accuracy: 0.9193 - loss: 0.2139 - val_accuracy: 0.9115 - val_loss: 0.2156\n",
      "Epoch 5/10\n",
      "500/500 - 1s - 2ms/step - accuracy: 0.9283 - loss: 0.1977 - val_accuracy: 0.9190 - val_loss: 0.1997\n",
      "Epoch 6/10\n",
      "500/500 - 1s - 2ms/step - accuracy: 0.9346 - loss: 0.1848 - val_accuracy: 0.9275 - val_loss: 0.1869\n",
      "Epoch 7/10\n",
      "500/500 - 1s - 2ms/step - accuracy: 0.9380 - loss: 0.1741 - val_accuracy: 0.9315 - val_loss: 0.1764\n",
      "Epoch 8/10\n",
      "500/500 - 1s - 2ms/step - accuracy: 0.9419 - loss: 0.1651 - val_accuracy: 0.9360 - val_loss: 0.1676\n",
      "Epoch 9/10\n",
      "500/500 - 1s - 2ms/step - accuracy: 0.9450 - loss: 0.1574 - val_accuracy: 0.9385 - val_loss: 0.1600\n",
      "Epoch 10/10\n",
      "500/500 - 1s - 2ms/step - accuracy: 0.9475 - loss: 0.1507 - val_accuracy: 0.9410 - val_loss: 0.1535\n"
     ]
    }
   ],
   "source": [
    "q_model = ClassicalModel()\n",
    "\n",
    "q_history = q_model.fit(\n",
    "    q_train_images,\n",
    "    q_train_labels,\n",
    "    validation_data=(q_test_images, test_labels),\n",
    "    batch_size=16,\n",
    "    epochs=n_epochs,\n",
    "    verbose=2,\n",
    ")"
   ]
  },
  {
   "cell_type": "markdown",
   "id": "a97595d9",
   "metadata": {
    "papermill": {
     "duration": 0.025715,
     "end_time": "2024-08-08T12:39:25.517272",
     "exception": false,
     "start_time": "2024-08-08T12:39:25.491557",
     "status": "completed"
    },
    "tags": []
   },
   "source": [
    "**Training model with Classical data**"
   ]
  },
  {
   "cell_type": "code",
   "execution_count": 18,
   "id": "be9c8353",
   "metadata": {
    "execution": {
     "iopub.execute_input": "2024-08-08T12:39:25.571909Z",
     "iopub.status.busy": "2024-08-08T12:39:25.571466Z",
     "iopub.status.idle": "2024-08-08T12:39:25.578926Z",
     "shell.execute_reply": "2024-08-08T12:39:25.577502Z"
    },
    "papermill": {
     "duration": 0.037833,
     "end_time": "2024-08-08T12:39:25.581621",
     "exception": false,
     "start_time": "2024-08-08T12:39:25.543788",
     "status": "completed"
    },
    "tags": []
   },
   "outputs": [],
   "source": [
    "def ClassicalModel():\n",
    "    model = keras.models.Sequential([\n",
    "        keras.layers.Flatten(),\n",
    "        keras.layers.Dense(2, activation=\"softmax\")\n",
    "    ])\n",
    "\n",
    "    model.compile(\n",
    "        optimizer='adam',\n",
    "        loss=\"sparse_categorical_crossentropy\",\n",
    "        metrics=[\"accuracy\"],\n",
    "    )\n",
    "    return model"
   ]
  },
  {
   "cell_type": "code",
   "execution_count": 19,
   "id": "acc3577a",
   "metadata": {
    "execution": {
     "iopub.execute_input": "2024-08-08T12:39:25.635387Z",
     "iopub.status.busy": "2024-08-08T12:39:25.634955Z",
     "iopub.status.idle": "2024-08-08T12:39:45.135616Z",
     "shell.execute_reply": "2024-08-08T12:39:45.133317Z"
    },
    "papermill": {
     "duration": 19.532894,
     "end_time": "2024-08-08T12:39:45.141341",
     "exception": false,
     "start_time": "2024-08-08T12:39:25.608447",
     "status": "completed"
    },
    "tags": []
   },
   "outputs": [
    {
     "name": "stdout",
     "output_type": "stream",
     "text": [
      "Epoch 1/10\n",
      "500/500 - 3s - 6ms/step - accuracy: 0.8159 - loss: 0.3946 - val_accuracy: 0.8615 - val_loss: 0.2967\n",
      "Epoch 2/10\n",
      "500/500 - 2s - 3ms/step - accuracy: 0.8813 - loss: 0.2799 - val_accuracy: 0.8940 - val_loss: 0.2486\n",
      "Epoch 3/10\n",
      "500/500 - 2s - 3ms/step - accuracy: 0.9036 - loss: 0.2350 - val_accuracy: 0.9115 - val_loss: 0.2131\n",
      "Epoch 4/10\n",
      "500/500 - 2s - 5ms/step - accuracy: 0.9180 - loss: 0.2050 - val_accuracy: 0.9230 - val_loss: 0.1850\n",
      "Epoch 5/10\n",
      "500/500 - 2s - 3ms/step - accuracy: 0.9264 - loss: 0.1834 - val_accuracy: 0.9340 - val_loss: 0.1621\n",
      "Epoch 6/10\n",
      "500/500 - 2s - 3ms/step - accuracy: 0.9348 - loss: 0.1666 - val_accuracy: 0.9480 - val_loss: 0.1430\n",
      "Epoch 7/10\n",
      "500/500 - 2s - 3ms/step - accuracy: 0.9411 - loss: 0.1530 - val_accuracy: 0.9530 - val_loss: 0.1272\n",
      "Epoch 8/10\n",
      "500/500 - 2s - 3ms/step - accuracy: 0.9455 - loss: 0.1417 - val_accuracy: 0.9565 - val_loss: 0.1138\n",
      "Epoch 9/10\n",
      "500/500 - 2s - 3ms/step - accuracy: 0.9496 - loss: 0.1323 - val_accuracy: 0.9600 - val_loss: 0.1021\n",
      "Epoch 10/10\n",
      "500/500 - 1s - 3ms/step - accuracy: 0.9529 - loss: 0.1246 - val_accuracy: 0.9650 - val_loss: 0.0915\n"
     ]
    }
   ],
   "source": [
    "# To understand the effect of using Quantum Convolution, I am also training the same model on classical data\n",
    "c_train_images=X_train[:8000]\n",
    "c_train_labels=y_train[:8000]\n",
    "c_test_images=X_val[:2000]\n",
    "c_test_labels=y_val[:2000]\n",
    "c_train_images = np.array(c_train_images[..., tf.newaxis], requires_grad=False)\n",
    "c_test_images = np.array(c_test_images[..., tf.newaxis], requires_grad=False)\n",
    "class_model = ClassicalModel()\n",
    "class_history = class_model.fit(\n",
    "    c_train_images,\n",
    "    c_train_labels,\n",
    "    validation_data=(c_test_images, c_test_labels),\n",
    "    batch_size=16,\n",
    "    epochs=n_epochs,\n",
    "    verbose=2,\n",
    ")"
   ]
  },
  {
   "cell_type": "markdown",
   "id": "70cd2587",
   "metadata": {
    "papermill": {
     "duration": 0.043916,
     "end_time": "2024-08-08T12:39:45.234903",
     "exception": false,
     "start_time": "2024-08-08T12:39:45.190987",
     "status": "completed"
    },
    "tags": []
   },
   "source": [
    "As we can see the accuracy obtained on the validation dataset is more without quantum layer, than with it. \n"
   ]
  },
  {
   "cell_type": "markdown",
   "id": "53c866f6",
   "metadata": {
    "papermill": {
     "duration": 0.04412,
     "end_time": "2024-08-08T12:39:45.322264",
     "exception": false,
     "start_time": "2024-08-08T12:39:45.278144",
     "status": "completed"
    },
    "tags": []
   },
   "source": [
    "**Comparing the results**"
   ]
  },
  {
   "cell_type": "code",
   "execution_count": 20,
   "id": "ee13d249",
   "metadata": {
    "execution": {
     "iopub.execute_input": "2024-08-08T12:39:45.413181Z",
     "iopub.status.busy": "2024-08-08T12:39:45.412670Z",
     "iopub.status.idle": "2024-08-08T12:39:46.095358Z",
     "shell.execute_reply": "2024-08-08T12:39:46.093856Z"
    },
    "papermill": {
     "duration": 0.732819,
     "end_time": "2024-08-08T12:39:46.099229",
     "exception": false,
     "start_time": "2024-08-08T12:39:45.366410",
     "status": "completed"
    },
    "tags": []
   },
   "outputs": [
    {
     "name": "stderr",
     "output_type": "stream",
     "text": [
      "/tmp/ipykernel_18/554733545.py:3: MatplotlibDeprecationWarning: The seaborn styles shipped by Matplotlib are deprecated since 3.6, as they no longer correspond to the styles shipped by seaborn. However, they will remain available as 'seaborn-v0_8-<style>'. Alternatively, directly use the seaborn API instead.\n",
      "  plt.style.use(\"seaborn\")\n"
     ]
    },
    {
     "data": {
      "image/png": "[encoded data removed]",
      "text/plain": [
       "<Figure size 600x900 with 2 Axes>"
      ]
     },
     "metadata": {},
     "output_type": "display_data"
    }
   ],
   "source": [
    "import matplotlib.pyplot as plt\n",
    "\n",
    "plt.style.use(\"seaborn\")\n",
    "fig, (ax1, ax2) = plt.subplots(2, 1, figsize=(6, 9))\n",
    "\n",
    "ax1.plot(q_history.history[\"val_accuracy\"], \"-ob\", label=\"With quantum layer\")\n",
    "ax1.plot(class_history.history[\"val_accuracy\"], \"-og\", label=\"Without quantum layer\")\n",
    "ax1.set_ylabel(\"Accuracy\")\n",
    "ax1.set_ylim([0, 1])\n",
    "ax1.set_xlabel(\"Epoch\")\n",
    "ax1.legend()\n",
    "\n",
    "ax2.plot(q_history.history[\"val_loss\"], label=\"With quantum layer\")\n",
    "ax2.plot(class_history.history[\"val_loss\"], label=\"Without quantum layer\")\n",
    "ax2.set_ylabel(\"Loss\")\n",
    "ax2.set_ylim(top=2.5)\n",
    "ax2.set_xlabel(\"Epoch\")\n",
    "ax2.legend()\n",
    "plt.tight_layout()\n",
    "plt.show()"
   ]
  },
  {
   "cell_type": "markdown",
   "id": "a38380b3",
   "metadata": {
    "papermill": {
     "duration": 0.027942,
     "end_time": "2024-08-08T12:39:46.158022",
     "exception": false,
     "start_time": "2024-08-08T12:39:46.130080",
     "status": "completed"
    },
    "tags": []
   },
   "source": [
    "# Evaluating on Validation set"
   ]
  },
  {
   "cell_type": "markdown",
   "id": "8f9ebd19",
   "metadata": {
    "papermill": {
     "duration": 0.029756,
     "end_time": "2024-08-08T12:39:46.218344",
     "exception": false,
     "start_time": "2024-08-08T12:39:46.188588",
     "status": "completed"
    },
    "tags": []
   },
   "source": [
    "**1) Quantum Model**"
   ]
  },
  {
   "cell_type": "code",
   "execution_count": 21,
   "id": "347a6ba7",
   "metadata": {
    "execution": {
     "iopub.execute_input": "2024-08-08T12:39:46.278107Z",
     "iopub.status.busy": "2024-08-08T12:39:46.277684Z",
     "iopub.status.idle": "2024-08-08T12:39:47.105966Z",
     "shell.execute_reply": "2024-08-08T12:39:47.104473Z"
    },
    "papermill": {
     "duration": 0.861473,
     "end_time": "2024-08-08T12:39:47.109369",
     "exception": false,
     "start_time": "2024-08-08T12:39:46.247896",
     "status": "completed"
    },
    "tags": []
   },
   "outputs": [
    {
     "name": "stdout",
     "output_type": "stream",
     "text": [
      "\u001b[1m63/63\u001b[0m \u001b[32m━━━━━━━━━━━━━━━━━━━━\u001b[0m\u001b[37m\u001b[0m \u001b[1m0s\u001b[0m 2ms/step\n"
     ]
    },
    {
     "name": "stderr",
     "output_type": "stream",
     "text": [
      "/tmp/ipykernel_18/1849215188.py:5: MatplotlibDeprecationWarning: The seaborn styles shipped by Matplotlib are deprecated since 3.6, as they no longer correspond to the styles shipped by seaborn. However, they will remain available as 'seaborn-v0_8-<style>'. Alternatively, directly use the seaborn API instead.\n",
      "  plt.style.use(\"seaborn\")\n"
     ]
    },
    {
     "data": {
      "image/png": "[encoded data removed]",
      "text/plain": [
       "<Figure size 1200x600 with 2 Axes>"
      ]
     },
     "metadata": {},
     "output_type": "display_data"
    }
   ],
   "source": [
    "from sklearn.metrics import confusion_matrix, f1_score, ConfusionMatrixDisplay\n",
    "q_pred_labels = np.argmax(q_model.predict(q_test_images), axis=1)\n",
    "q_conf_matrix = confusion_matrix(test_labels, q_pred_labels)\n",
    "q_f1 = f1_score(test_labels, q_pred_labels)\n",
    "plt.style.use(\"seaborn\")\n",
    "fig, axes = plt.subplots(1, 1, figsize=(12, 6))\n",
    "ConfusionMatrixDisplay(q_conf_matrix).plot(ax=axes, cmap='Blues')\n",
    "axes.set_title(f'Quantum Layer\\nF1 Score: {q_f1:.2f}')\n",
    "plt.tight_layout()\n",
    "plt.show()"
   ]
  },
  {
   "cell_type": "markdown",
   "id": "798e6ac3",
   "metadata": {
    "papermill": {
     "duration": 0.048804,
     "end_time": "2024-08-08T12:39:47.208061",
     "exception": false,
     "start_time": "2024-08-08T12:39:47.159257",
     "status": "completed"
    },
    "tags": []
   },
   "source": [
    "The accuracy I obtained for Validation is 94% and F1 score of 0.96 , which is much more than what I obtained when I was using PCA and neural networks and considerably more training data. Now comparing it with purely classical approach."
   ]
  },
  {
   "cell_type": "markdown",
   "id": "93234889",
   "metadata": {
    "papermill": {
     "duration": 0.047152,
     "end_time": "2024-08-08T12:39:47.303343",
     "exception": false,
     "start_time": "2024-08-08T12:39:47.256191",
     "status": "completed"
    },
    "tags": []
   },
   "source": [
    "**2) Classical Model**"
   ]
  },
  {
   "cell_type": "code",
   "execution_count": 22,
   "id": "d02f2560",
   "metadata": {
    "execution": {
     "iopub.execute_input": "2024-08-08T12:39:47.401683Z",
     "iopub.status.busy": "2024-08-08T12:39:47.401266Z",
     "iopub.status.idle": "2024-08-08T12:39:48.503935Z",
     "shell.execute_reply": "2024-08-08T12:39:48.502523Z"
    },
    "papermill": {
     "duration": 1.15513,
     "end_time": "2024-08-08T12:39:48.506761",
     "exception": false,
     "start_time": "2024-08-08T12:39:47.351631",
     "status": "completed"
    },
    "tags": []
   },
   "outputs": [
    {
     "name": "stdout",
     "output_type": "stream",
     "text": [
      "\u001b[1m63/63\u001b[0m \u001b[32m━━━━━━━━━━━━━━━━━━━━\u001b[0m\u001b[37m\u001b[0m \u001b[1m0s\u001b[0m 3ms/step\n"
     ]
    },
    {
     "name": "stderr",
     "output_type": "stream",
     "text": [
      "/tmp/ipykernel_18/1358341245.py:4: MatplotlibDeprecationWarning: The seaborn styles shipped by Matplotlib are deprecated since 3.6, as they no longer correspond to the styles shipped by seaborn. However, they will remain available as 'seaborn-v0_8-<style>'. Alternatively, directly use the seaborn API instead.\n",
      "  plt.style.use(\"seaborn\")\n"
     ]
    },
    {
     "data": {
      "image/png": "[encoded data removed]",
      "text/plain": [
       "<Figure size 1200x600 with 2 Axes>"
      ]
     },
     "metadata": {},
     "output_type": "display_data"
    }
   ],
   "source": [
    "c_pred_labels = np.argmax(class_model.predict(c_test_images), axis=1)\n",
    "c_conf_matrix = confusion_matrix(c_test_labels, c_pred_labels)\n",
    "q_f1 = f1_score(c_test_labels, q_pred_labels)\n",
    "plt.style.use(\"seaborn\")\n",
    "fig, axes = plt.subplots(1, 1, figsize=(12, 6))\n",
    "ConfusionMatrixDisplay(c_conf_matrix).plot(ax=axes, cmap='Blues')\n",
    "axes.set_title(f'Without Quantum Layer\\nF1 Score: {q_f1:.2f}')\n",
    "plt.tight_layout()\n",
    "plt.show()"
   ]
  },
  {
   "cell_type": "markdown",
   "id": "1f582408",
   "metadata": {
    "papermill": {
     "duration": 0.029817,
     "end_time": "2024-08-08T12:39:48.566872",
     "exception": false,
     "start_time": "2024-08-08T12:39:48.537055",
     "status": "completed"
    },
    "tags": []
   },
   "source": [
    "# Using a classically complex model\n",
    "\n",
    "Here I am using a calssical model with more hiden layers,and dropout to prevent overfitting, if any."
   ]
  },
  {
   "cell_type": "markdown",
   "id": "b42710fc",
   "metadata": {
    "papermill": {
     "duration": 0.030376,
     "end_time": "2024-08-08T12:39:48.627290",
     "exception": false,
     "start_time": "2024-08-08T12:39:48.596914",
     "status": "completed"
    },
    "tags": []
   },
   "source": [
    "**1) Quantum Layer**"
   ]
  },
  {
   "cell_type": "code",
   "execution_count": 23,
   "id": "5ffdf251",
   "metadata": {
    "execution": {
     "iopub.execute_input": "2024-08-08T12:39:48.689322Z",
     "iopub.status.busy": "2024-08-08T12:39:48.688206Z",
     "iopub.status.idle": "2024-08-08T12:39:48.698657Z",
     "shell.execute_reply": "2024-08-08T12:39:48.697370Z"
    },
    "papermill": {
     "duration": 0.044625,
     "end_time": "2024-08-08T12:39:48.701334",
     "exception": false,
     "start_time": "2024-08-08T12:39:48.656709",
     "status": "completed"
    },
    "tags": []
   },
   "outputs": [],
   "source": [
    "def complexModel():\n",
    "    model = keras.models.Sequential([\n",
    "        keras.layers.InputLayer(input_shape=(16, 16, 4)),\n",
    "        keras.layers.Flatten(),\n",
    "        keras.layers.Dense(128, activation='relu'),\n",
    "        keras.layers.Dropout(0.2),\n",
    "        \n",
    "        keras.layers.Dense(64, activation='relu'),\n",
    "        keras.layers.Dropout(0.2), \n",
    "        keras.layers.Dense(2, activation='softmax')\n",
    "    ])\n",
    "    model.compile(\n",
    "        optimizer='adam',\n",
    "        loss=\"sparse_categorical_crossentropy\",\n",
    "        metrics=[\"accuracy\"],\n",
    "    )\n",
    "    return model"
   ]
  },
  {
   "cell_type": "code",
   "execution_count": 24,
   "id": "b8485d9c",
   "metadata": {
    "execution": {
     "iopub.execute_input": "2024-08-08T12:39:48.762548Z",
     "iopub.status.busy": "2024-08-08T12:39:48.761992Z",
     "iopub.status.idle": "2024-08-08T12:40:08.739757Z",
     "shell.execute_reply": "2024-08-08T12:40:08.738649Z"
    },
    "papermill": {
     "duration": 20.011788,
     "end_time": "2024-08-08T12:40:08.742759",
     "exception": false,
     "start_time": "2024-08-08T12:39:48.730971",
     "status": "completed"
    },
    "tags": []
   },
   "outputs": [
    {
     "name": "stderr",
     "output_type": "stream",
     "text": [
      "/opt/conda/lib/python3.10/site-packages/keras/src/layers/core/input_layer.py:26: UserWarning: Argument `input_shape` is deprecated. Use `shape` instead.\n",
      "  warnings.warn(\n"
     ]
    },
    {
     "name": "stdout",
     "output_type": "stream",
     "text": [
      "Epoch 1/10\n",
      "500/500 - 3s - 7ms/step - accuracy: 0.8491 - loss: 0.3489 - val_accuracy: 0.8930 - val_loss: 0.2442\n",
      "Epoch 2/10\n",
      "500/500 - 2s - 4ms/step - accuracy: 0.8942 - loss: 0.2543 - val_accuracy: 0.8985 - val_loss: 0.2105\n",
      "Epoch 3/10\n",
      "500/500 - 2s - 4ms/step - accuracy: 0.8970 - loss: 0.2282 - val_accuracy: 0.8655 - val_loss: 0.2943\n",
      "Epoch 4/10\n",
      "500/500 - 2s - 4ms/step - accuracy: 0.9239 - loss: 0.1843 - val_accuracy: 0.9520 - val_loss: 0.1257\n",
      "Epoch 5/10\n",
      "500/500 - 2s - 4ms/step - accuracy: 0.9195 - loss: 0.1797 - val_accuracy: 0.9435 - val_loss: 0.1576\n",
      "Epoch 6/10\n",
      "500/500 - 2s - 4ms/step - accuracy: 0.9251 - loss: 0.1743 - val_accuracy: 0.9440 - val_loss: 0.1493\n",
      "Epoch 7/10\n",
      "500/500 - 2s - 4ms/step - accuracy: 0.8997 - loss: 0.2145 - val_accuracy: 0.8695 - val_loss: 0.2627\n",
      "Epoch 8/10\n",
      "500/500 - 2s - 4ms/step - accuracy: 0.9007 - loss: 0.2005 - val_accuracy: 0.9440 - val_loss: 0.1247\n",
      "Epoch 9/10\n",
      "500/500 - 2s - 3ms/step - accuracy: 0.9079 - loss: 0.1785 - val_accuracy: 0.9215 - val_loss: 0.1665\n",
      "Epoch 10/10\n",
      "500/500 - 2s - 4ms/step - accuracy: 0.9197 - loss: 0.1542 - val_accuracy: 0.9350 - val_loss: 0.1272\n"
     ]
    }
   ],
   "source": [
    "qc_model = complexModel()\n",
    "\n",
    "qc_history = qc_model.fit(\n",
    "    q_train_images,\n",
    "    q_train_labels,\n",
    "    validation_data=(q_test_images, test_labels),\n",
    "    batch_size=16,\n",
    "    epochs=n_epochs,\n",
    "    verbose=2,\n",
    ")"
   ]
  },
  {
   "cell_type": "markdown",
   "id": "d9aae3fb",
   "metadata": {
    "papermill": {
     "duration": 0.031176,
     "end_time": "2024-08-08T12:40:08.806104",
     "exception": false,
     "start_time": "2024-08-08T12:40:08.774928",
     "status": "completed"
    },
    "tags": []
   },
   "source": [
    "**2) Classical Model**"
   ]
  },
  {
   "cell_type": "code",
   "execution_count": 25,
   "id": "4f31a650",
   "metadata": {
    "execution": {
     "iopub.execute_input": "2024-08-08T12:40:08.871426Z",
     "iopub.status.busy": "2024-08-08T12:40:08.870983Z",
     "iopub.status.idle": "2024-08-08T12:40:08.878641Z",
     "shell.execute_reply": "2024-08-08T12:40:08.877425Z"
    },
    "papermill": {
     "duration": 0.043471,
     "end_time": "2024-08-08T12:40:08.881030",
     "exception": false,
     "start_time": "2024-08-08T12:40:08.837559",
     "status": "completed"
    },
    "tags": []
   },
   "outputs": [],
   "source": [
    "def complexModel():\n",
    "    model = keras.models.Sequential([\n",
    "        \n",
    "        keras.layers.Flatten(),\n",
    "        keras.layers.Dense(128, activation='relu'),\n",
    "        keras.layers.Dropout(0.2),\n",
    "        \n",
    "        keras.layers.Dense(64, activation='relu'),\n",
    "        keras.layers.Dropout(0.2), \n",
    "        keras.layers.Dense(2, activation='softmax')\n",
    "    ])\n",
    "    model.compile(\n",
    "        optimizer='adam',\n",
    "        loss=\"sparse_categorical_crossentropy\",\n",
    "        metrics=[\"accuracy\"],\n",
    "    )\n",
    "    return model"
   ]
  },
  {
   "cell_type": "code",
   "execution_count": 26,
   "id": "63e9fe55",
   "metadata": {
    "execution": {
     "iopub.execute_input": "2024-08-08T12:40:08.946561Z",
     "iopub.status.busy": "2024-08-08T12:40:08.946124Z",
     "iopub.status.idle": "2024-08-08T12:41:09.492396Z",
     "shell.execute_reply": "2024-08-08T12:41:09.491114Z"
    },
    "papermill": {
     "duration": 60.582571,
     "end_time": "2024-08-08T12:41:09.495548",
     "exception": false,
     "start_time": "2024-08-08T12:40:08.912977",
     "status": "completed"
    },
    "tags": []
   },
   "outputs": [
    {
     "name": "stdout",
     "output_type": "stream",
     "text": [
      "Epoch 1/10\n",
      "500/500 - 8s - 16ms/step - accuracy: 0.6781 - loss: 0.5851 - val_accuracy: 0.7450 - val_loss: 0.4393\n",
      "Epoch 2/10\n",
      "500/500 - 6s - 12ms/step - accuracy: 0.7523 - loss: 0.4403 - val_accuracy: 0.8720 - val_loss: 0.3288\n",
      "Epoch 3/10\n",
      "500/500 - 6s - 11ms/step - accuracy: 0.7546 - loss: 0.4274 - val_accuracy: 0.8585 - val_loss: 0.3285\n",
      "Epoch 4/10\n",
      "500/500 - 6s - 11ms/step - accuracy: 0.7564 - loss: 0.4183 - val_accuracy: 0.8755 - val_loss: 0.3046\n",
      "Epoch 5/10\n",
      "500/500 - 6s - 11ms/step - accuracy: 0.7560 - loss: 0.4181 - val_accuracy: 0.8745 - val_loss: 0.3096\n",
      "Epoch 6/10\n",
      "500/500 - 5s - 11ms/step - accuracy: 0.7666 - loss: 0.4082 - val_accuracy: 0.8800 - val_loss: 0.2974\n",
      "Epoch 7/10\n",
      "500/500 - 6s - 12ms/step - accuracy: 0.7621 - loss: 0.4140 - val_accuracy: 0.8845 - val_loss: 0.2835\n",
      "Epoch 8/10\n",
      "500/500 - 6s - 12ms/step - accuracy: 0.7766 - loss: 0.3916 - val_accuracy: 0.8980 - val_loss: 0.2723\n",
      "Epoch 9/10\n",
      "500/500 - 6s - 11ms/step - accuracy: 0.7719 - loss: 0.3971 - val_accuracy: 0.8960 - val_loss: 0.2791\n",
      "Epoch 10/10\n",
      "500/500 - 6s - 11ms/step - accuracy: 0.7768 - loss: 0.3924 - val_accuracy: 0.8905 - val_loss: 0.2895\n"
     ]
    }
   ],
   "source": [
    "cclass_model =complexModel()\n",
    "cclass_history = cclass_model.fit(\n",
    "    c_train_images,\n",
    "    c_train_labels,\n",
    "    validation_data=(c_test_images, c_test_labels),\n",
    "    batch_size=16,\n",
    "    epochs=n_epochs,\n",
    "    verbose=2,\n",
    ")"
   ]
  },
  {
   "cell_type": "markdown",
   "id": "797bddda",
   "metadata": {},
   "source": [
    "This time however, the validation accuracy for the classical input is considerably less than the one with quantum processed input"
   ]
  },
  {
   "cell_type": "code",
   "execution_count": 27,
   "id": "598273db",
   "metadata": {
    "execution": {
     "iopub.execute_input": "2024-08-08T12:41:09.566127Z",
     "iopub.status.busy": "2024-08-08T12:41:09.565670Z",
     "iopub.status.idle": "2024-08-08T12:41:10.373121Z",
     "shell.execute_reply": "2024-08-08T12:41:10.371958Z"
    },
    "papermill": {
     "duration": 0.846845,
     "end_time": "2024-08-08T12:41:10.376255",
     "exception": false,
     "start_time": "2024-08-08T12:41:09.529410",
     "status": "completed"
    },
    "tags": []
   },
   "outputs": [
    {
     "name": "stdout",
     "output_type": "stream",
     "text": [
      "\u001b[1m63/63\u001b[0m \u001b[32m━━━━━━━━━━━━━━━━━━━━\u001b[0m\u001b[37m\u001b[0m \u001b[1m0s\u001b[0m 2ms/step\n"
     ]
    },
    {
     "name": "stderr",
     "output_type": "stream",
     "text": [
      "/tmp/ipykernel_18/3079895505.py:4: MatplotlibDeprecationWarning: The seaborn styles shipped by Matplotlib are deprecated since 3.6, as they no longer correspond to the styles shipped by seaborn. However, they will remain available as 'seaborn-v0_8-<style>'. Alternatively, directly use the seaborn API instead.\n",
      "  plt.style.use(\"seaborn\")\n"
     ]
    },
    {
     "data": {
      "image/png": "[encoded data removed]",
      "text/plain": [
       "<Figure size 600x900 with 2 Axes>"
      ]
     },
     "metadata": {},
     "output_type": "display_data"
    }
   ],
   "source": [
    "from sklearn.metrics import confusion_matrix, f1_score, ConfusionMatrixDisplay\n",
    "q_pred_labels = np.argmax(qc_model.predict(q_test_images), axis=1)\n",
    "q_conf_matrix = confusion_matrix(test_labels, q_pred_labels)\n",
    "plt.style.use(\"seaborn\")\n",
    "fig, (ax1, ax2) = plt.subplots(2, 1, figsize=(6, 9))\n",
    "\n",
    "ax1.plot(qc_history.history[\"val_accuracy\"], \"-ob\", label=\"With quantum layer\")\n",
    "ax1.plot(cclass_history.history[\"val_accuracy\"], \"-og\", label=\"Without quantum layer\")\n",
    "ax1.set_ylabel(\"Accuracy\")\n",
    "ax1.set_ylim([0, 1])\n",
    "ax1.set_xlabel(\"Epoch\")\n",
    "ax1.legend()\n",
    "\n",
    "ax2.plot(q_history.history[\"val_loss\"], label=\"With quantum layer\")\n",
    "ax2.plot(class_history.history[\"val_loss\"], label=\"Without quantum layer\")\n",
    "ax2.set_ylabel(\"Loss\")\n",
    "ax2.set_ylim(top=2.5)\n",
    "ax2.set_xlabel(\"Epoch\")\n",
    "ax2.legend()\n",
    "plt.tight_layout()\n",
    "plt.show()"
   ]
  },
  {
   "cell_type": "markdown",
   "id": "72656a6d",
   "metadata": {
    "papermill": {
     "duration": 0.03497,
     "end_time": "2024-08-08T12:41:10.448954",
     "exception": false,
     "start_time": "2024-08-08T12:41:10.413984",
     "status": "completed"
    },
    "tags": []
   },
   "source": [
    "# Quanvolutional Inference"
   ]
  },
  {
   "cell_type": "markdown",
   "id": "d2854551",
   "metadata": {
    "papermill": {
     "duration": 0.034985,
     "end_time": "2024-08-08T12:41:10.518849",
     "exception": false,
     "start_time": "2024-08-08T12:41:10.483864",
     "status": "completed"
    },
    "tags": []
   },
   "source": [
    "Loading the test data to evaluate models and generate predictions"
   ]
  },
  {
   "cell_type": "code",
   "execution_count": 28,
   "id": "e8db73fc",
   "metadata": {
    "execution": {
     "iopub.execute_input": "2024-08-08T12:41:10.589956Z",
     "iopub.status.busy": "2024-08-08T12:41:10.589535Z",
     "iopub.status.idle": "2024-08-08T12:43:18.117832Z",
     "shell.execute_reply": "2024-08-08T12:43:18.116432Z"
    },
    "papermill": {
     "duration": 127.567574,
     "end_time": "2024-08-08T12:43:18.121014",
     "exception": false,
     "start_time": "2024-08-08T12:41:10.553440",
     "status": "completed"
    },
    "tags": []
   },
   "outputs": [],
   "source": [
    "with open(test_json_path, 'r') as f:\n",
    "    test_data = json.load(f)\n",
    "\n",
    "def load_and_preprocess_image(image_path, img_size=(64, 64)):\n",
    "    img = tf.keras.preprocessing.image.load_img(image_path, target_size=img_size)\n",
    "    img = tf.keras.preprocessing.image.img_to_array(img)\n",
    "    img = img / 255.0  \n",
    "    return img\n",
    "\n",
    "image_paths = []\n",
    "labels = []\n",
    "for image_path, label in test_data.items():\n",
    "    if label in [0, 1,2,3,4,5]:  \n",
    "        full_image_path = os.path.join(test_dir, image_path)\n",
    "        if os.path.exists(full_image_path):  \n",
    "            image_paths.append(full_image_path)\n",
    "            if label in [2,3,4,5]:\n",
    "                labels.append(1)\n",
    "            else:\n",
    "                labels.append(label)\n",
    "\n",
    "images = np.array([load_and_preprocess_image(img_path) for img_path in image_paths])\n",
    "labels = np.array(labels)\n",
    "X_test = images\n",
    "y_test=labels"
   ]
  },
  {
   "cell_type": "code",
   "execution_count": 29,
   "id": "f9fb66d6",
   "metadata": {
    "execution": {
     "iopub.execute_input": "2024-08-08T12:43:18.194010Z",
     "iopub.status.busy": "2024-08-08T12:43:18.193583Z",
     "iopub.status.idle": "2024-08-08T12:43:18.200815Z",
     "shell.execute_reply": "2024-08-08T12:43:18.199245Z"
    },
    "papermill": {
     "duration": 0.046299,
     "end_time": "2024-08-08T12:43:18.203524",
     "exception": false,
     "start_time": "2024-08-08T12:43:18.157225",
     "status": "completed"
    },
    "tags": []
   },
   "outputs": [
    {
     "name": "stdout",
     "output_type": "stream",
     "text": [
      "6588\n"
     ]
    }
   ],
   "source": [
    "print(len(y_test))"
   ]
  },
  {
   "cell_type": "markdown",
   "id": "519e9aa0",
   "metadata": {
    "papermill": {
     "duration": 0.036194,
     "end_time": "2024-08-08T12:43:18.276507",
     "exception": false,
     "start_time": "2024-08-08T12:43:18.240313",
     "status": "completed"
    },
    "tags": []
   },
   "source": [
    "Since, the pre processing of images takes too much time, I am using a preprocessed datasets, of about 1200 images"
   ]
  },
  {
   "cell_type": "code",
   "execution_count": 30,
   "id": "694145b3",
   "metadata": {
    "execution": {
     "iopub.execute_input": "2024-08-08T12:43:18.349391Z",
     "iopub.status.busy": "2024-08-08T12:43:18.348964Z",
     "iopub.status.idle": "2024-08-08T12:43:18.356989Z",
     "shell.execute_reply": "2024-08-08T12:43:18.355617Z"
    },
    "papermill": {
     "duration": 0.047686,
     "end_time": "2024-08-08T12:43:18.359615",
     "exception": false,
     "start_time": "2024-08-08T12:43:18.311929",
     "status": "completed"
    },
    "tags": []
   },
   "outputs": [
    {
     "data": {
      "text/plain": [
       "'q_test_images = []\\nprint(\"\\nQuantum pre-processing of test images:\")\\nfor idx, img in enumerate(test_images):\\n    print(\"{}/{}        \".format(idx + 1,500),end=\"\\r\")\\n    q_test_images.append(quanv(img))'"
      ]
     },
     "execution_count": 30,
     "metadata": {},
     "output_type": "execute_result"
    }
   ],
   "source": [
    "\"\"\"test_images=X_test[start_index:end_index]\n",
    "from collections import Counter\n",
    "print(Counter(y_test[start_index:end_index]))\"\"\"\n",
    "\n",
    "#This is the code I used for quanvloution preprocessing, similar to the one above\n",
    "\"\"\"q_test_images = []\n",
    "print(\"\\nQuantum pre-processing of test images:\")\n",
    "for idx, img in enumerate(test_images):\n",
    "    print(\"{}/{}        \".format(idx + 1,end_index-start_index),end=\"\\r\")\n",
    "    q_test_images.append(quanv(img))\"\"\"\n"
   ]
  },
  {
   "cell_type": "code",
   "execution_count": 31,
   "id": "0beb419c",
   "metadata": {
    "execution": {
     "iopub.execute_input": "2024-08-08T12:43:18.435220Z",
     "iopub.status.busy": "2024-08-08T12:43:18.434789Z",
     "iopub.status.idle": "2024-08-08T12:43:18.443051Z",
     "shell.execute_reply": "2024-08-08T12:43:18.441547Z"
    },
    "papermill": {
     "duration": 0.049725,
     "end_time": "2024-08-08T12:43:18.445858",
     "exception": false,
     "start_time": "2024-08-08T12:43:18.396133",
     "status": "completed"
    },
    "tags": []
   },
   "outputs": [
    {
     "data": {
      "text/plain": [
       "'q_test_images = np.asarray(q_test_images)\\nnp.save(\"q_testing_images.npy\", q_test_images)\\n'"
      ]
     },
     "execution_count": 31,
     "metadata": {},
     "output_type": "execute_result"
    }
   ],
   "source": [
    "# This code is used to save the processed images\n",
    "\"\"\"q_test_images = np.asarray(q_test_images)\n",
    "np.save(\"q_testing_images.npy\", q_test_images)\n",
    "\"\"\""
   ]
  },
  {
   "cell_type": "code",
   "execution_count": 32,
   "id": "c2be887f",
   "metadata": {
    "execution": {
     "iopub.execute_input": "2024-08-08T12:43:18.521732Z",
     "iopub.status.busy": "2024-08-08T12:43:18.521279Z",
     "iopub.status.idle": "2024-08-08T12:43:18.683386Z",
     "shell.execute_reply": "2024-08-08T12:43:18.681777Z"
    },
    "papermill": {
     "duration": 0.203265,
     "end_time": "2024-08-08T12:43:18.687026",
     "exception": false,
     "start_time": "2024-08-08T12:43:18.483761",
     "status": "completed"
    },
    "tags": []
   },
   "outputs": [],
   "source": [
    "# Here I will load my preprocessed data\n",
    "q_test1 = np.load(\"/kaggle/input/test-data/100.npy\")\n",
    "q_test2 = np.load(\"/kaggle/input/test-data/3000-3300.npy\")\n",
    "q_test3=np.load(\"/kaggle/input/test-data/500-1000.npy\")\n",
    "q_test4=np.load(\"/kaggle/input/test-data/6200-6500.npy\")\n",
    "test_labels=np.concatenate((y_test[:100],y_test[3000:3300],y_test[500:1000],y_test[6200:6500]),axis=0)\n",
    "q_test_images = np.concatenate((q_test1,q_test2,q_test3,q_test4),axis=0)\n"
   ]
  },
  {
   "cell_type": "markdown",
   "id": "4b963868",
   "metadata": {
    "papermill": {
     "duration": 0.03487,
     "end_time": "2024-08-08T12:43:18.758986",
     "exception": false,
     "start_time": "2024-08-08T12:43:18.724116",
     "status": "completed"
    },
    "tags": []
   },
   "source": [
    "# Evaluating the basic models on the test data"
   ]
  },
  {
   "cell_type": "code",
   "execution_count": 33,
   "id": "27893402",
   "metadata": {
    "execution": {
     "iopub.execute_input": "2024-08-08T12:43:18.837507Z",
     "iopub.status.busy": "2024-08-08T12:43:18.836225Z",
     "iopub.status.idle": "2024-08-08T12:43:18.845879Z",
     "shell.execute_reply": "2024-08-08T12:43:18.844762Z"
    },
    "papermill": {
     "duration": 0.052604,
     "end_time": "2024-08-08T12:43:18.848481",
     "exception": false,
     "start_time": "2024-08-08T12:43:18.795877",
     "status": "completed"
    },
    "tags": []
   },
   "outputs": [],
   "source": [
    "from sklearn.metrics import accuracy_score\n",
    "def evaluate(model,test_image):\n",
    "    pred_labels = np.argmax(model.predict(test_image), axis=1)\n",
    "    q_conf_matrix = confusion_matrix(test_labels, pred_labels)\n",
    "    accuracy = accuracy_score(test_labels,pred_labels)\n",
    "    print(f\"Accuracy: {accuracy:.4f}\")\n",
    "    f1 = f1_score(test_labels, pred_labels)\n",
    "    print(\"F1 Score is:\",f1)\n",
    "    plt.style.use(\"seaborn\")\n",
    "    fig, axes = plt.subplots(1, 1, figsize=(12, 6))\n",
    "    ConfusionMatrixDisplay(q_conf_matrix).plot(ax=axes, cmap='Blues')\n",
    "    plt.tight_layout()\n",
    "    plt.show()"
   ]
  },
  {
   "cell_type": "markdown",
   "id": "78ca5071",
   "metadata": {
    "papermill": {
     "duration": 0.035424,
     "end_time": "2024-08-08T12:43:18.920103",
     "exception": false,
     "start_time": "2024-08-08T12:43:18.884679",
     "status": "completed"
    },
    "tags": []
   },
   "source": [
    "**1) Quantum version**"
   ]
  },
  {
   "cell_type": "code",
   "execution_count": 34,
   "id": "d47008bc",
   "metadata": {
    "execution": {
     "iopub.execute_input": "2024-08-08T12:43:18.995146Z",
     "iopub.status.busy": "2024-08-08T12:43:18.994702Z",
     "iopub.status.idle": "2024-08-08T12:43:19.534852Z",
     "shell.execute_reply": "2024-08-08T12:43:19.533555Z"
    },
    "papermill": {
     "duration": 0.580426,
     "end_time": "2024-08-08T12:43:19.537420",
     "exception": false,
     "start_time": "2024-08-08T12:43:18.956994",
     "status": "completed"
    },
    "tags": []
   },
   "outputs": [
    {
     "name": "stdout",
     "output_type": "stream",
     "text": [
      "\u001b[1m38/38\u001b[0m \u001b[32m━━━━━━━━━━━━━━━━━━━━\u001b[0m\u001b[37m\u001b[0m \u001b[1m0s\u001b[0m 1ms/step \n",
      "Accuracy: 0.9258\n",
      "F1 Score is: 0.9593792788680968\n"
     ]
    },
    {
     "name": "stderr",
     "output_type": "stream",
     "text": [
      "/tmp/ipykernel_18/4223525409.py:9: MatplotlibDeprecationWarning: The seaborn styles shipped by Matplotlib are deprecated since 3.6, as they no longer correspond to the styles shipped by seaborn. However, they will remain available as 'seaborn-v0_8-<style>'. Alternatively, directly use the seaborn API instead.\n",
      "  plt.style.use(\"seaborn\")\n"
     ]
    },
    {
     "data": {
      "image/png": "[encoded data removed]",
      "text/plain": [
       "<Figure size 1200x600 with 2 Axes>"
      ]
     },
     "metadata": {},
     "output_type": "display_data"
    }
   ],
   "source": [
    "evaluate(q_model,q_test_images)"
   ]
  },
  {
   "cell_type": "markdown",
   "id": "cb866679",
   "metadata": {
    "papermill": {
     "duration": 0.0358,
     "end_time": "2024-08-08T12:43:19.610008",
     "exception": false,
     "start_time": "2024-08-08T12:43:19.574208",
     "status": "completed"
    },
    "tags": []
   },
   "source": [
    "**2)Classical model**"
   ]
  },
  {
   "cell_type": "code",
   "execution_count": 35,
   "id": "2b68d8c9",
   "metadata": {
    "execution": {
     "iopub.execute_input": "2024-08-08T12:43:19.686601Z",
     "iopub.status.busy": "2024-08-08T12:43:19.686106Z",
     "iopub.status.idle": "2024-08-08T12:43:19.726031Z",
     "shell.execute_reply": "2024-08-08T12:43:19.724641Z"
    },
    "papermill": {
     "duration": 0.08275,
     "end_time": "2024-08-08T12:43:19.729030",
     "exception": false,
     "start_time": "2024-08-08T12:43:19.646280",
     "status": "completed"
    },
    "tags": []
   },
   "outputs": [],
   "source": [
    "c_test=np.concatenate((X_test[:100],X_test[3000:3300],X_test[500:1000],X_test[6200:6500]),axis=0)\n",
    "c_test = np.array(c_test[..., tf.newaxis], requires_grad=False)"
   ]
  },
  {
   "cell_type": "code",
   "execution_count": 36,
   "id": "fe89ea52",
   "metadata": {
    "execution": {
     "iopub.execute_input": "2024-08-08T12:43:19.807860Z",
     "iopub.status.busy": "2024-08-08T12:43:19.807404Z",
     "iopub.status.idle": "2024-08-08T12:43:20.410578Z",
     "shell.execute_reply": "2024-08-08T12:43:20.409094Z"
    },
    "papermill": {
     "duration": 0.646704,
     "end_time": "2024-08-08T12:43:20.413585",
     "exception": false,
     "start_time": "2024-08-08T12:43:19.766881",
     "status": "completed"
    },
    "tags": []
   },
   "outputs": [
    {
     "name": "stdout",
     "output_type": "stream",
     "text": [
      "\u001b[1m38/38\u001b[0m \u001b[32m━━━━━━━━━━━━━━━━━━━━\u001b[0m\u001b[37m\u001b[0m \u001b[1m0s\u001b[0m 2ms/step\n",
      "Accuracy: 0.9183\n",
      "F1 Score is: 0.9536423841059604\n"
     ]
    },
    {
     "name": "stderr",
     "output_type": "stream",
     "text": [
      "/tmp/ipykernel_18/4223525409.py:9: MatplotlibDeprecationWarning: The seaborn styles shipped by Matplotlib are deprecated since 3.6, as they no longer correspond to the styles shipped by seaborn. However, they will remain available as 'seaborn-v0_8-<style>'. Alternatively, directly use the seaborn API instead.\n",
      "  plt.style.use(\"seaborn\")\n"
     ]
    },
    {
     "data": {
      "image/png": "[encoded data removed]",
      "text/plain": [
       "<Figure size 1200x600 with 2 Axes>"
      ]
     },
     "metadata": {},
     "output_type": "display_data"
    }
   ],
   "source": [
    "evaluate(class_model,c_test)"
   ]
  },
  {
   "cell_type": "markdown",
   "id": "50352d8b",
   "metadata": {
    "papermill": {
     "duration": 0.03811,
     "end_time": "2024-08-08T12:43:20.490144",
     "exception": false,
     "start_time": "2024-08-08T12:43:20.452034",
     "status": "completed"
    },
    "tags": []
   },
   "source": [
    "On evaluating, we find the Quantum Model actaully performs a little better on the test set,as comapred to the classical model. The accuracy and the F1 score obtained are both better for the quantum model, when we comapre it to the classical model. Also the model with quantum input, has better recall, that is it is better at detecting defects."
   ]
  },
  {
   "cell_type": "markdown",
   "id": "e7388bab",
   "metadata": {
    "papermill": {
     "duration": 0.037338,
     "end_time": "2024-08-08T12:43:20.565194",
     "exception": false,
     "start_time": "2024-08-08T12:43:20.527856",
     "status": "completed"
    },
    "tags": []
   },
   "source": [
    "# Evaluating the Complex Model results "
   ]
  },
  {
   "cell_type": "markdown",
   "id": "d2451529",
   "metadata": {
    "papermill": {
     "duration": 0.037824,
     "end_time": "2024-08-08T12:43:20.641208",
     "exception": false,
     "start_time": "2024-08-08T12:43:20.603384",
     "status": "completed"
    },
    "tags": []
   },
   "source": [
    "**1) Quantum Model**"
   ]
  },
  {
   "cell_type": "code",
   "execution_count": 37,
   "id": "7d00c1d3",
   "metadata": {
    "execution": {
     "iopub.execute_input": "2024-08-08T12:43:20.721328Z",
     "iopub.status.busy": "2024-08-08T12:43:20.720889Z",
     "iopub.status.idle": "2024-08-08T12:43:21.208154Z",
     "shell.execute_reply": "2024-08-08T12:43:21.206794Z"
    },
    "papermill": {
     "duration": 0.531507,
     "end_time": "2024-08-08T12:43:21.211054",
     "exception": false,
     "start_time": "2024-08-08T12:43:20.679547",
     "status": "completed"
    },
    "tags": []
   },
   "outputs": [
    {
     "name": "stdout",
     "output_type": "stream",
     "text": [
      "\u001b[1m38/38\u001b[0m \u001b[32m━━━━━━━━━━━━━━━━━━━━\u001b[0m\u001b[37m\u001b[0m \u001b[1m0s\u001b[0m 2ms/step\n",
      "Accuracy: 0.8958\n",
      "F1 Score is: 0.9418874941887495\n"
     ]
    },
    {
     "name": "stderr",
     "output_type": "stream",
     "text": [
      "/tmp/ipykernel_18/4223525409.py:9: MatplotlibDeprecationWarning: The seaborn styles shipped by Matplotlib are deprecated since 3.6, as they no longer correspond to the styles shipped by seaborn. However, they will remain available as 'seaborn-v0_8-<style>'. Alternatively, directly use the seaborn API instead.\n",
      "  plt.style.use(\"seaborn\")\n"
     ]
    },
    {
     "data": {
      "image/png": "[encoded data removed]",
      "text/plain": [
       "<Figure size 1200x600 with 2 Axes>"
      ]
     },
     "metadata": {},
     "output_type": "display_data"
    }
   ],
   "source": [
    "evaluate(qc_model,q_test_images)"
   ]
  },
  {
   "cell_type": "markdown",
   "id": "9c376f3a",
   "metadata": {
    "papermill": {
     "duration": 0.040287,
     "end_time": "2024-08-08T12:43:21.291584",
     "exception": false,
     "start_time": "2024-08-08T12:43:21.251297",
     "status": "completed"
    },
    "tags": []
   },
   "source": [
    "**2) Classical Model**"
   ]
  },
  {
   "cell_type": "code",
   "execution_count": 38,
   "id": "70b1dadf",
   "metadata": {
    "execution": {
     "iopub.execute_input": "2024-08-08T12:43:21.372026Z",
     "iopub.status.busy": "2024-08-08T12:43:21.371594Z",
     "iopub.status.idle": "2024-08-08T12:43:22.068487Z",
     "shell.execute_reply": "2024-08-08T12:43:22.067255Z"
    },
    "papermill": {
     "duration": 0.740953,
     "end_time": "2024-08-08T12:43:22.071259",
     "exception": false,
     "start_time": "2024-08-08T12:43:21.330306",
     "status": "completed"
    },
    "tags": []
   },
   "outputs": [
    {
     "name": "stdout",
     "output_type": "stream",
     "text": [
      "\u001b[1m38/38\u001b[0m \u001b[32m━━━━━━━━━━━━━━━━━━━━\u001b[0m\u001b[37m\u001b[0m \u001b[1m0s\u001b[0m 5ms/step\n",
      "Accuracy: 0.7233\n",
      "F1 Score is: 0.8139013452914797\n"
     ]
    },
    {
     "name": "stderr",
     "output_type": "stream",
     "text": [
      "/tmp/ipykernel_18/4223525409.py:9: MatplotlibDeprecationWarning: The seaborn styles shipped by Matplotlib are deprecated since 3.6, as they no longer correspond to the styles shipped by seaborn. However, they will remain available as 'seaborn-v0_8-<style>'. Alternatively, directly use the seaborn API instead.\n",
      "  plt.style.use(\"seaborn\")\n"
     ]
    },
    {
     "data": {
      "image/png": "[encoded data removed]",
      "text/plain": [
       "<Figure size 1200x600 with 2 Axes>"
      ]
     },
     "metadata": {},
     "output_type": "display_data"
    }
   ],
   "source": [
    "evaluate(cclass_model,c_test)"
   ]
  },
  {
   "cell_type": "markdown",
   "id": "b879f4e7",
   "metadata": {
    "papermill": {
     "duration": 0.03924,
     "end_time": "2024-08-08T12:43:22.152298",
     "exception": false,
     "start_time": "2024-08-08T12:43:22.113058",
     "status": "completed"
    },
    "tags": []
   },
   "source": [
    "Again the model with quantum layer genralises better to the test dataset. Both the F1 socre and the accuracy is considerably better for the model with input images processed through quantum preprocessing. The F1 score being 0.94 as comapared to 0.81 in case of classical input. And as evident from the markdown cells, the quantum processed images took less tiem to be trained upon."
   ]
  },
  {
   "cell_type": "markdown",
   "id": "2e6521c5",
   "metadata": {
    "papermill": {
     "duration": 0.039442,
     "end_time": "2024-08-08T12:43:22.231143",
     "exception": false,
     "start_time": "2024-08-08T12:43:22.191701",
     "status": "completed"
    },
    "tags": []
   },
   "source": [
    "# Conclusion"
   ]
  },
  {
   "cell_type": "markdown",
   "id": "43753cfc",
   "metadata": {
    "papermill": {
     "duration": 0.039303,
     "end_time": "2024-08-08T12:43:22.311775",
     "exception": false,
     "start_time": "2024-08-08T12:43:22.272472",
     "status": "completed"
    },
    "tags": []
   },
   "source": [
    "As we noticed the quantum processing does add advantge to our model, and gives potentially better results. While the image has to be processed by the quantum layer before being fed into the model, and that can be time consuming, it can be reduced by actually using a quantum computer for this purpose, and further enhancements in technology. Irrespective of the difference between the scores of the predictions, we find that the Quantum processed images have a better recall value."
   ]
  }
 ],
 "metadata": {
  "kaggle": {
   "accelerator": "none",
   "dataSources": [
    {
     "datasetId": 63362,
     "sourceId": 123140,
     "sourceType": "datasetVersion"
    },
    {
     "datasetId": 5444785,
     "sourceId": 9039303,
     "sourceType": "datasetVersion"
    },
    {
     "datasetId": 5508114,
     "sourceId": 9124028,
     "sourceType": "datasetVersion"
    },
    {
     "datasetId": 5510161,
     "sourceId": 9126794,
     "sourceType": "datasetVersion"
    },
    {
     "datasetId": 5510166,
     "sourceId": 9126800,
     "sourceType": "datasetVersion"
    },
    {
     "datasetId": 5510177,
     "sourceId": 9126814,
     "sourceType": "datasetVersion"
    },
    {
     "datasetId": 5511625,
     "sourceId": 9128995,
     "sourceType": "datasetVersion"
    }
   ],
   "dockerImageVersionId": 30746,
   "isGpuEnabled": false,
   "isInternetEnabled": true,
   "language": "python",
   "sourceType": "notebook"
  },
  "kernelspec": {
   "display_name": "Python 3",
   "language": "python",
   "name": "python3"
  },
  "language_info": {
   "codemirror_mode": {
    "name": "ipython",
    "version": 3
   },
   "file_extension": ".py",
   "mimetype": "text/x-python",
   "name": "python",
   "nbconvert_exporter": "python",
   "pygments_lexer": "ipython3",
   "version": "3.10.13"
  },
  "papermill": {
   "default_parameters": {},
   "duration": 816.723011,
   "end_time": "2024-08-08T12:43:25.254571",
   "environment_variables": {},
   "exception": null,
   "input_path": "__notebook__.ipynb",
   "output_path": "__notebook__.ipynb",
   "parameters": {},
   "start_time": "2024-08-08T12:29:48.531560",
   "version": "2.5.0"
  }
 },
 "nbformat": 4,
 "nbformat_minor": 5
}
