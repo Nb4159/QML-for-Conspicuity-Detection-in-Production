{
 "cells": [
  {
   "cell_type": "code",
   "execution_count": 1,
   "id": "e963c5d3",
   "metadata": {
    "_cell_guid": "b1076dfc-b9ad-4769-8c92-a6c4dae69d19",
    "_uuid": "8f2839f25d086af736a60e9eeb907d3b93b6e0e5",
    "execution": {
     "iopub.execute_input": "2024-08-07T11:25:27.457052Z",
     "iopub.status.busy": "2024-08-07T11:25:27.455547Z",
     "iopub.status.idle": "2024-08-07T11:25:48.004965Z",
     "shell.execute_reply": "2024-08-07T11:25:48.003461Z"
    },
    "papermill": {
     "duration": 20.562376,
     "end_time": "2024-08-07T11:25:48.007934",
     "exception": false,
     "start_time": "2024-08-07T11:25:27.445558",
     "status": "completed"
    },
    "tags": []
   },
   "outputs": [
    {
     "name": "stdout",
     "output_type": "stream",
     "text": [
      "Collecting pennylane\r\n",
      "  Downloading PennyLane-0.37.0-py3-none-any.whl.metadata (9.3 kB)\r\n",
      "Requirement already satisfied: numpy<2.0 in /opt/conda/lib/python3.10/site-packages (from pennylane) (1.26.4)\r\n",
      "Requirement already satisfied: scipy in /opt/conda/lib/python3.10/site-packages (from pennylane) (1.11.4)\r\n",
      "Requirement already satisfied: networkx in /opt/conda/lib/python3.10/site-packages (from pennylane) (3.2.1)\r\n",
      "Collecting rustworkx (from pennylane)\r\n",
      "  Downloading rustworkx-0.15.1-cp38-abi3-manylinux_2_17_x86_64.manylinux2014_x86_64.whl.metadata (9.9 kB)\r\n",
      "Collecting autograd (from pennylane)\r\n",
      "  Downloading autograd-1.6.2-py3-none-any.whl.metadata (706 bytes)\r\n",
      "Requirement already satisfied: toml in /opt/conda/lib/python3.10/site-packages (from pennylane) (0.10.2)\r\n",
      "Collecting appdirs (from pennylane)\r\n",
      "  Downloading appdirs-1.4.4-py2.py3-none-any.whl.metadata (9.0 kB)\r\n",
      "Collecting semantic-version>=2.7 (from pennylane)\r\n",
      "  Downloading semantic_version-2.10.0-py2.py3-none-any.whl.metadata (9.7 kB)\r\n",
      "Collecting autoray>=0.6.11 (from pennylane)\r\n",
      "  Downloading autoray-0.6.12-py3-none-any.whl.metadata (5.7 kB)\r\n",
      "Requirement already satisfied: cachetools in /opt/conda/lib/python3.10/site-packages (from pennylane) (4.2.4)\r\n",
      "Collecting pennylane-lightning>=0.37 (from pennylane)\r\n",
      "  Downloading PennyLane_Lightning-0.37.0-cp310-cp310-manylinux_2_28_x86_64.whl.metadata (23 kB)\r\n",
      "Requirement already satisfied: requests in /opt/conda/lib/python3.10/site-packages (from pennylane) (2.32.3)\r\n",
      "Requirement already satisfied: typing-extensions in /opt/conda/lib/python3.10/site-packages (from pennylane) (4.9.0)\r\n",
      "Requirement already satisfied: packaging in /opt/conda/lib/python3.10/site-packages (from pennylane) (21.3)\r\n",
      "Requirement already satisfied: future>=0.15.2 in /opt/conda/lib/python3.10/site-packages (from autograd->pennylane) (1.0.0)\r\n",
      "Requirement already satisfied: pyparsing!=3.0.5,>=2.0.2 in /opt/conda/lib/python3.10/site-packages (from packaging->pennylane) (3.1.1)\r\n",
      "Requirement already satisfied: charset-normalizer<4,>=2 in /opt/conda/lib/python3.10/site-packages (from requests->pennylane) (3.3.2)\r\n",
      "Requirement already satisfied: idna<4,>=2.5 in /opt/conda/lib/python3.10/site-packages (from requests->pennylane) (3.6)\r\n",
      "Requirement already satisfied: urllib3<3,>=1.21.1 in /opt/conda/lib/python3.10/site-packages (from requests->pennylane) (1.26.18)\r\n",
      "Requirement already satisfied: certifi>=2017.4.17 in /opt/conda/lib/python3.10/site-packages (from requests->pennylane) (2024.7.4)\r\n",
      "Downloading PennyLane-0.37.0-py3-none-any.whl (1.8 MB)\r\n",
      "\u001b[2K   \u001b[90m━━━━━━━━━━━━━━━━━━━━━━━━━━━━━━━━━━━━━━━━\u001b[0m \u001b[32m1.8/1.8 MB\u001b[0m \u001b[31m19.9 MB/s\u001b[0m eta \u001b[36m0:00:00\u001b[0m\r\n",
      "\u001b[?25hDownloading autoray-0.6.12-py3-none-any.whl (50 kB)\r\n",
      "\u001b[2K   \u001b[90m━━━━━━━━━━━━━━━━━━━━━━━━━━━━━━━━━━━━━━━━\u001b[0m \u001b[32m51.0/51.0 kB\u001b[0m \u001b[31m2.6 MB/s\u001b[0m eta \u001b[36m0:00:00\u001b[0m\r\n",
      "\u001b[?25hDownloading PennyLane_Lightning-0.37.0-cp310-cp310-manylinux_2_28_x86_64.whl (15.5 MB)\r\n",
      "\u001b[2K   \u001b[90m━━━━━━━━━━━━━━━━━━━━━━━━━━━━━━━━━━━━━━━━\u001b[0m \u001b[32m15.5/15.5 MB\u001b[0m \u001b[31m63.2 MB/s\u001b[0m eta \u001b[36m0:00:00\u001b[0m\r\n",
      "\u001b[?25hDownloading semantic_version-2.10.0-py2.py3-none-any.whl (15 kB)\r\n",
      "Downloading appdirs-1.4.4-py2.py3-none-any.whl (9.6 kB)\r\n",
      "Downloading autograd-1.6.2-py3-none-any.whl (49 kB)\r\n",
      "\u001b[2K   \u001b[90m━━━━━━━━━━━━━━━━━━━━━━━━━━━━━━━━━━━━━━━━\u001b[0m \u001b[32m49.3/49.3 kB\u001b[0m \u001b[31m2.6 MB/s\u001b[0m eta \u001b[36m0:00:00\u001b[0m\r\n",
      "\u001b[?25hDownloading rustworkx-0.15.1-cp38-abi3-manylinux_2_17_x86_64.manylinux2014_x86_64.whl (2.0 MB)\r\n",
      "\u001b[2K   \u001b[90m━━━━━━━━━━━━━━━━━━━━━━━━━━━━━━━━━━━━━━━━\u001b[0m \u001b[32m2.0/2.0 MB\u001b[0m \u001b[31m52.1 MB/s\u001b[0m eta \u001b[36m0:00:00\u001b[0m\r\n",
      "\u001b[?25hInstalling collected packages: appdirs, semantic-version, rustworkx, autoray, autograd, pennylane-lightning, pennylane\r\n",
      "Successfully installed appdirs-1.4.4 autograd-1.6.2 autoray-0.6.12 pennylane-0.37.0 pennylane-lightning-0.37.0 rustworkx-0.15.1 semantic-version-2.10.0\r\n"
     ]
    }
   ],
   "source": [
    "!pip install pennylane"
   ]
  },
  {
   "cell_type": "markdown",
   "id": "021447f4",
   "metadata": {},
   "source": [
    "This follows from the pennylane tutorial mentioned in the description."
   ]
  },
  {
   "cell_type": "markdown",
   "id": "086ba13b",
   "metadata": {
    "papermill": {
     "duration": 0.010602,
     "end_time": "2024-08-07T11:25:48.029644",
     "exception": false,
     "start_time": "2024-08-07T11:25:48.019042",
     "status": "completed"
    },
    "tags": []
   },
   "source": [
    "# Parity Function"
   ]
  },
  {
   "cell_type": "code",
   "execution_count": 2,
   "id": "d84a83c1",
   "metadata": {
    "execution": {
     "iopub.execute_input": "2024-08-07T11:25:48.053831Z",
     "iopub.status.busy": "2024-08-07T11:25:48.053360Z",
     "iopub.status.idle": "2024-08-07T11:25:52.222366Z",
     "shell.execute_reply": "2024-08-07T11:25:52.221157Z"
    },
    "papermill": {
     "duration": 4.18476,
     "end_time": "2024-08-07T11:25:52.225330",
     "exception": false,
     "start_time": "2024-08-07T11:25:48.040570",
     "status": "completed"
    },
    "tags": []
   },
   "outputs": [],
   "source": [
    "#imports\n",
    "import pennylane as qml\n",
    "from pennylane import numpy as np\n",
    "from pennylane.optimize import AdamOptimizer"
   ]
  },
  {
   "cell_type": "code",
   "execution_count": 3,
   "id": "2f5f4b07",
   "metadata": {
    "execution": {
     "iopub.execute_input": "2024-08-07T11:25:52.249249Z",
     "iopub.status.busy": "2024-08-07T11:25:52.248509Z",
     "iopub.status.idle": "2024-08-07T11:25:52.268225Z",
     "shell.execute_reply": "2024-08-07T11:25:52.267004Z"
    },
    "papermill": {
     "duration": 0.034932,
     "end_time": "2024-08-07T11:25:52.271250",
     "exception": false,
     "start_time": "2024-08-07T11:25:52.236318",
     "status": "completed"
    },
    "tags": []
   },
   "outputs": [],
   "source": [
    "dev = qml.device(\"lightning.qubit\",wires=4)\n",
    "# Definig the quantum operation layer\n",
    "def layer(layer_weights):\n",
    "    for wire in range(4):\n",
    "        qml.Rot(*layer_weights[wire], wires=wire)\n",
    "\n",
    "    for wires in ([0, 1], [1, 2], [2, 3], [3, 0]):\n",
    "        qml.CNOT(wires)"
   ]
  },
  {
   "cell_type": "code",
   "execution_count": 4,
   "id": "e4485a94",
   "metadata": {
    "execution": {
     "iopub.execute_input": "2024-08-07T11:25:52.295661Z",
     "iopub.status.busy": "2024-08-07T11:25:52.294658Z",
     "iopub.status.idle": "2024-08-07T11:25:52.300105Z",
     "shell.execute_reply": "2024-08-07T11:25:52.299113Z"
    },
    "papermill": {
     "duration": 0.019954,
     "end_time": "2024-08-07T11:25:52.302432",
     "exception": false,
     "start_time": "2024-08-07T11:25:52.282478",
     "status": "completed"
    },
    "tags": []
   },
   "outputs": [],
   "source": [
    "def state_preparation(x):\n",
    "    qml.BasisState(x, wires=[0, 1, 2, 3])"
   ]
  },
  {
   "cell_type": "code",
   "execution_count": 5,
   "id": "4502ccaf",
   "metadata": {
    "execution": {
     "iopub.execute_input": "2024-08-07T11:25:52.325969Z",
     "iopub.status.busy": "2024-08-07T11:25:52.325539Z",
     "iopub.status.idle": "2024-08-07T11:25:52.332434Z",
     "shell.execute_reply": "2024-08-07T11:25:52.331274Z"
    },
    "papermill": {
     "duration": 0.021932,
     "end_time": "2024-08-07T11:25:52.335321",
     "exception": false,
     "start_time": "2024-08-07T11:25:52.313389",
     "status": "completed"
    },
    "tags": []
   },
   "outputs": [],
   "source": [
    "@qml.qnode(dev)\n",
    "def circuit(weights, x):\n",
    "    state_preparation(x)\n",
    "\n",
    "    for layer_weights in weights:\n",
    "        layer(layer_weights)\n",
    "\n",
    "    return qml.expval(qml.PauliZ(0))"
   ]
  },
  {
   "cell_type": "code",
   "execution_count": 6,
   "id": "12b4a4b8",
   "metadata": {
    "execution": {
     "iopub.execute_input": "2024-08-07T11:25:52.361126Z",
     "iopub.status.busy": "2024-08-07T11:25:52.360689Z",
     "iopub.status.idle": "2024-08-07T11:25:52.369266Z",
     "shell.execute_reply": "2024-08-07T11:25:52.368036Z"
    },
    "papermill": {
     "duration": 0.025603,
     "end_time": "2024-08-07T11:25:52.371915",
     "exception": false,
     "start_time": "2024-08-07T11:25:52.346312",
     "status": "completed"
    },
    "tags": []
   },
   "outputs": [],
   "source": [
    "def variational_classifier(weights, bias, x):\n",
    "    return circuit(weights, x) + bias\n",
    "def square_loss(labels, predictions): # The Mean Squared loss function\n",
    "    return np.mean((labels - qml.math.stack(predictions)) ** 2)\n",
    "def accuracy(labels, predictions): \n",
    "    acc = sum(abs(l - p) < 1e-5 for l, p in zip(labels, predictions))\n",
    "    acc = acc / len(labels)\n",
    "    return acc\n",
    "def cost(weights, bias, X, Y): # defining the cost function to be optimized\n",
    "    predictions = [variational_classifier(weights, bias, x) for x in X]\n",
    "    return square_loss(Y, predictions)"
   ]
  },
  {
   "cell_type": "code",
   "execution_count": 7,
   "id": "926f1e90",
   "metadata": {
    "execution": {
     "iopub.execute_input": "2024-08-07T11:25:52.395728Z",
     "iopub.status.busy": "2024-08-07T11:25:52.394810Z",
     "iopub.status.idle": "2024-08-07T11:25:52.412373Z",
     "shell.execute_reply": "2024-08-07T11:25:52.410840Z"
    },
    "papermill": {
     "duration": 0.03236,
     "end_time": "2024-08-07T11:25:52.415140",
     "exception": false,
     "start_time": "2024-08-07T11:25:52.382780",
     "status": "completed"
    },
    "tags": []
   },
   "outputs": [
    {
     "name": "stdout",
     "output_type": "stream",
     "text": [
      "x = [0 0 0 1], y = 1\n",
      "x = [0 0 1 0], y = 1\n",
      "x = [0 1 0 0], y = 1\n",
      "x = [0 1 0 1], y = -1\n",
      "x = [0 1 1 0], y = -1\n",
      "x = [0 1 1 1], y = 1\n",
      "x = [1 0 0 0], y = 1\n",
      "x = [1 0 0 1], y = -1\n",
      "x = [1 0 1 1], y = 1\n",
      "x = [1 1 1 1], y = -1\n"
     ]
    }
   ],
   "source": [
    "data = np.loadtxt(\"/kaggle/input/data-parity/parity_train.txt\", dtype=int)\n",
    "X = np.array(data[:, :-1])\n",
    "Y = np.array(data[:, -1])\n",
    "Y = Y * 2 - 1 \n",
    "for x,y in zip(X, Y):\n",
    "    print(f\"x = {x}, y = {y}\")"
   ]
  },
  {
   "cell_type": "code",
   "execution_count": 8,
   "id": "e7a2c00f",
   "metadata": {
    "execution": {
     "iopub.execute_input": "2024-08-07T11:25:52.439553Z",
     "iopub.status.busy": "2024-08-07T11:25:52.439146Z",
     "iopub.status.idle": "2024-08-07T11:25:52.448927Z",
     "shell.execute_reply": "2024-08-07T11:25:52.447769Z"
    },
    "papermill": {
     "duration": 0.025312,
     "end_time": "2024-08-07T11:25:52.452127",
     "exception": false,
     "start_time": "2024-08-07T11:25:52.426815",
     "status": "completed"
    },
    "tags": []
   },
   "outputs": [
    {
     "name": "stdout",
     "output_type": "stream",
     "text": [
      "Weights: [[[ 0.01764052  0.00400157  0.00978738]\n",
      "  [ 0.02240893  0.01867558 -0.00977278]\n",
      "  [ 0.00950088 -0.00151357 -0.00103219]\n",
      "  [ 0.00410599  0.00144044  0.01454274]]\n",
      "\n",
      " [[ 0.00761038  0.00121675  0.00443863]\n",
      "  [ 0.00333674  0.01494079 -0.00205158]\n",
      "  [ 0.00313068 -0.00854096 -0.0255299 ]\n",
      "  [ 0.00653619  0.00864436 -0.00742165]]]\n",
      "Bias:  0.0\n"
     ]
    }
   ],
   "source": [
    "np.random.seed(0)# makes sure that results are reproducible\n",
    "num_qubits = 4\n",
    "num_layers = 2\n",
    "weights_init = 0.01 * np.random.randn(num_layers, num_qubits, 3, requires_grad=True)# Providing a random array of intial params\n",
    "bias_init = np.array(0.0, requires_grad=True)\n",
    "\n",
    "print(\"Weights:\", weights_init)\n",
    "print(\"Bias: \", bias_init)"
   ]
  },
  {
   "cell_type": "code",
   "execution_count": 9,
   "id": "d966304a",
   "metadata": {
    "execution": {
     "iopub.execute_input": "2024-08-07T11:25:52.475897Z",
     "iopub.status.busy": "2024-08-07T11:25:52.475360Z",
     "iopub.status.idle": "2024-08-07T11:26:05.308601Z",
     "shell.execute_reply": "2024-08-07T11:26:05.307551Z"
    },
    "papermill": {
     "duration": 12.848027,
     "end_time": "2024-08-07T11:26:05.311060",
     "exception": false,
     "start_time": "2024-08-07T11:25:52.463033",
     "status": "completed"
    },
    "tags": []
   },
   "outputs": [
    {
     "name": "stdout",
     "output_type": "stream",
     "text": [
      "Iter:    1 | Cost: 1.9612436 | Accuracy: 0.5000000\n",
      "Iter:    2 | Cost: 1.9039866 | Accuracy: 0.5000000\n",
      "Iter:    3 | Cost: 1.8502774 | Accuracy: 0.5000000\n",
      "Iter:    4 | Cost: 1.7917135 | Accuracy: 0.5000000\n",
      "Iter:    5 | Cost: 1.7227871 | Accuracy: 0.5000000\n",
      "Iter:    6 | Cost: 1.6515905 | Accuracy: 0.5000000\n",
      "Iter:    7 | Cost: 1.5819509 | Accuracy: 0.5000000\n",
      "Iter:    8 | Cost: 1.5016120 | Accuracy: 0.5000000\n",
      "Iter:    9 | Cost: 1.4200985 | Accuracy: 0.5000000\n",
      "Iter:   10 | Cost: 1.3281402 | Accuracy: 0.5000000\n",
      "Iter:   11 | Cost: 1.2307871 | Accuracy: 0.5000000\n",
      "Iter:   12 | Cost: 1.1340698 | Accuracy: 0.5000000\n",
      "Iter:   13 | Cost: 1.0413024 | Accuracy: 0.5000000\n",
      "Iter:   14 | Cost: 0.9577776 | Accuracy: 0.5000000\n",
      "Iter:   15 | Cost: 0.8918015 | Accuracy: 0.7000000\n",
      "Iter:   16 | Cost: 0.8376085 | Accuracy: 0.7000000\n",
      "Iter:   17 | Cost: 0.7914611 | Accuracy: 0.7000000\n",
      "Iter:   18 | Cost: 0.7557490 | Accuracy: 0.7000000\n",
      "Iter:   19 | Cost: 0.7264046 | Accuracy: 0.6000000\n",
      "Iter:   20 | Cost: 0.7009621 | Accuracy: 0.7000000\n",
      "Iter:   21 | Cost: 0.6748013 | Accuracy: 0.7000000\n",
      "Iter:   22 | Cost: 0.6472525 | Accuracy: 0.7000000\n",
      "Iter:   23 | Cost: 0.6179071 | Accuracy: 0.8000000\n",
      "Iter:   24 | Cost: 0.5870564 | Accuracy: 0.8000000\n",
      "Iter:   25 | Cost: 0.5499783 | Accuracy: 0.8000000\n",
      "Iter:   26 | Cost: 0.5106177 | Accuracy: 0.8000000\n",
      "Iter:   27 | Cost: 0.4684120 | Accuracy: 0.8000000\n",
      "Iter:   28 | Cost: 0.4214203 | Accuracy: 0.8000000\n",
      "Iter:   29 | Cost: 0.3718591 | Accuracy: 0.8000000\n",
      "Iter:   30 | Cost: 0.3242583 | Accuracy: 0.9000000\n",
      "Iter:   31 | Cost: 0.2768075 | Accuracy: 1.0000000\n",
      "Iter:   32 | Cost: 0.2286477 | Accuracy: 1.0000000\n",
      "Iter:   33 | Cost: 0.1829567 | Accuracy: 1.0000000\n",
      "Iter:   34 | Cost: 0.1418910 | Accuracy: 1.0000000\n",
      "Iter:   35 | Cost: 0.1093587 | Accuracy: 1.0000000\n",
      "Iter:   36 | Cost: 0.0851006 | Accuracy: 1.0000000\n",
      "Iter:   37 | Cost: 0.0660255 | Accuracy: 1.0000000\n",
      "Iter:   38 | Cost: 0.0519774 | Accuracy: 1.0000000\n",
      "Iter:   39 | Cost: 0.0399376 | Accuracy: 1.0000000\n",
      "Iter:   40 | Cost: 0.0300021 | Accuracy: 1.0000000\n"
     ]
    }
   ],
   "source": [
    "opt = AdamOptimizer(0.05)# Helps in Convergence\n",
    "batch_size = 5\n",
    "\n",
    "\n",
    "weights = weights_init\n",
    "bias = bias_init\n",
    "for it in range(40):\n",
    "\n",
    "    batch_index = np.random.randint(0, len(X), (batch_size,))\n",
    "    X_batch = X[batch_index]\n",
    "    Y_batch = Y[batch_index]\n",
    "    weights, bias = opt.step(cost, weights, bias, X=X_batch, Y=Y_batch)\n",
    "\n",
    "    # Compute accuracy\n",
    "    predictions = [np.sign(variational_classifier(weights, bias, x)) for x in X]\n",
    "\n",
    "    current_cost = cost(weights, bias, X, Y)\n",
    "    acc = accuracy(Y, predictions)\n",
    "\n",
    "    print(f\"Iter: {it+1:4d} | Cost: {current_cost:0.7f} | Accuracy: {acc:0.7f}\")"
   ]
  },
  {
   "cell_type": "code",
   "execution_count": 10,
   "id": "f910016c",
   "metadata": {
    "execution": {
     "iopub.execute_input": "2024-08-07T11:26:05.343701Z",
     "iopub.status.busy": "2024-08-07T11:26:05.343255Z",
     "iopub.status.idle": "2024-08-07T11:26:05.419848Z",
     "shell.execute_reply": "2024-08-07T11:26:05.418578Z"
    },
    "papermill": {
     "duration": 0.095487,
     "end_time": "2024-08-07T11:26:05.422573",
     "exception": false,
     "start_time": "2024-08-07T11:26:05.327086",
     "status": "completed"
    },
    "tags": []
   },
   "outputs": [
    {
     "name": "stdout",
     "output_type": "stream",
     "text": [
      "x = [0 0 0 0], y = -1, pred=-1.0\n",
      "x = [0 0 1 1], y = -1, pred=-1.0\n",
      "x = [1 0 1 0], y = -1, pred=-1.0\n",
      "x = [1 1 1 0], y = 1, pred=1.0\n",
      "x = [1 1 0 0], y = -1, pred=-1.0\n",
      "x = [1 1 0 1], y = 1, pred=1.0\n",
      "Accuracy on unseen data: 1.0\n"
     ]
    }
   ],
   "source": [
    "data = np.loadtxt(\"/kaggle/input/data-parity/parity_test.txt\", dtype=int)\n",
    "X_test = np.array(data[:, :-1])\n",
    "Y_test = np.array(data[:, -1])\n",
    "Y_test = Y_test * 2 - 1  # shift label from {0, 1} to {-1, 1}\n",
    "\n",
    "predictions_test = [np.sign(variational_classifier(weights, bias, x)) for x in X_test]\n",
    "\n",
    "for x,y,p in zip(X_test, Y_test, predictions_test):\n",
    "    print(f\"x = {x}, y = {y}, pred={p}\")\n",
    "\n",
    "acc_test = accuracy(Y_test, predictions_test)\n",
    "print(\"Accuracy on unseen data:\", acc_test)"
   ]
  },
  {
   "cell_type": "markdown",
   "id": "c329aec2",
   "metadata": {
    "papermill": {
     "duration": 0.014608,
     "end_time": "2024-08-07T11:26:05.453202",
     "exception": false,
     "start_time": "2024-08-07T11:26:05.438594",
     "status": "completed"
    },
    "tags": []
   },
   "source": [
    "**So, it took us 40 iterations to achive test accuracy 1.00, as opposed to the 100 in the tutorial**"
   ]
  },
  {
   "cell_type": "markdown",
   "id": "5f969ac3",
   "metadata": {
    "papermill": {
     "duration": 0.014304,
     "end_time": "2024-08-07T11:26:05.482122",
     "exception": false,
     "start_time": "2024-08-07T11:26:05.467818",
     "status": "completed"
    },
    "tags": []
   },
   "source": [
    "# Iris"
   ]
  },
  {
   "cell_type": "markdown",
   "id": "2edc160d",
   "metadata": {},
   "source": [
    "Here we try to classify iris dataset images . Instead of simply using the model given in the tutorial, I added a Hadamrd gate at the beginning of each layer, that helped me reach the accuracy of 1 with 18 steps as opposed to 40 in the tutorial."
   ]
  },
  {
   "cell_type": "code",
   "execution_count": 11,
   "id": "7810f764",
   "metadata": {
    "execution": {
     "iopub.execute_input": "2024-08-07T11:26:05.514016Z",
     "iopub.status.busy": "2024-08-07T11:26:05.513579Z",
     "iopub.status.idle": "2024-08-07T11:26:05.525306Z",
     "shell.execute_reply": "2024-08-07T11:26:05.524210Z"
    },
    "papermill": {
     "duration": 0.03057,
     "end_time": "2024-08-07T11:26:05.527756",
     "exception": false,
     "start_time": "2024-08-07T11:26:05.497186",
     "status": "completed"
    },
    "tags": []
   },
   "outputs": [],
   "source": [
    "def get_angles(x):\n",
    "    beta0 = 2 * np.arcsin(np.sqrt(x[1] ** 2) / np.sqrt(x[0] ** 2 + x[1] ** 2 + 1e-12))\n",
    "    beta1 = 2 * np.arcsin(np.sqrt(x[3] ** 2) / np.sqrt(x[2] ** 2 + x[3] ** 2 + 1e-12))\n",
    "    beta2 = 2 * np.arcsin(np.linalg.norm(x[2:]) / np.linalg.norm(x))\n",
    "\n",
    "    return np.array([beta2, -beta1 / 2, beta1 / 2, -beta0 / 2, beta0 / 2])\n",
    "\n",
    "# Defining the initial stae of the circuit\n",
    "def state_preparation(a):\n",
    "    qml.RY(a[0], wires=0)\n",
    "\n",
    "    qml.CNOT(wires=[0, 1])\n",
    "    qml.RY(a[1], wires=1)\n",
    "    qml.CNOT(wires=[0, 1])\n",
    "    qml.RY(a[2], wires=1)\n",
    "\n",
    "    qml.PauliX(wires=0)\n",
    "    qml.CNOT(wires=[0, 1])\n",
    "    qml.RY(a[3], wires=1)\n",
    "    qml.CNOT(wires=[0, 1])\n",
    "    qml.RY(a[4], wires=1)\n",
    "    qml.PauliX(wires=0)"
   ]
  },
  {
   "cell_type": "code",
   "execution_count": 12,
   "id": "cf76148e",
   "metadata": {
    "execution": {
     "iopub.execute_input": "2024-08-07T11:26:05.559787Z",
     "iopub.status.busy": "2024-08-07T11:26:05.558973Z",
     "iopub.status.idle": "2024-08-07T11:26:05.566666Z",
     "shell.execute_reply": "2024-08-07T11:26:05.565486Z"
    },
    "papermill": {
     "duration": 0.026713,
     "end_time": "2024-08-07T11:26:05.569176",
     "exception": false,
     "start_time": "2024-08-07T11:26:05.542463",
     "status": "completed"
    },
    "tags": []
   },
   "outputs": [],
   "source": [
    "#The Layers of the circuit\n",
    "def layer(layer_weights):\n",
    "    qml.Hadamard(wires=[0])\n",
    "    for wire in range(2):\n",
    "        qml.Rot(*layer_weights[wire], wires=wire)\n",
    "    \n",
    "    qml.CNOT(wires=[0, 1])\n",
    "    \n",
    "\n",
    "\n",
    "def cost(weights, bias, X, Y):\n",
    "    predictions = variational_classifier(weights, bias, X.T)\n",
    "    return square_loss(Y, predictions)"
   ]
  },
  {
   "cell_type": "code",
   "execution_count": 13,
   "id": "04d40d30",
   "metadata": {
    "execution": {
     "iopub.execute_input": "2024-08-07T11:26:05.601885Z",
     "iopub.status.busy": "2024-08-07T11:26:05.600536Z",
     "iopub.status.idle": "2024-08-07T11:26:05.711001Z",
     "shell.execute_reply": "2024-08-07T11:26:05.709956Z"
    },
    "papermill": {
     "duration": 0.129555,
     "end_time": "2024-08-07T11:26:05.713901",
     "exception": false,
     "start_time": "2024-08-07T11:26:05.584346",
     "status": "completed"
    },
    "tags": []
   },
   "outputs": [],
   "source": [
    "data = np.loadtxt(\"/kaggle/input/iris-data/iris_train.txt\")\n",
    "X = data[:, 0:2]\n",
    "\n",
    "padding = np.ones((len(X), 2)) * 0.1\n",
    "X_pad = np.c_[X, padding]\n",
    "\n",
    "normalization = np.sqrt(np.sum(X_pad**2, -1))\n",
    "X_norm = (X_pad.T / normalization).T\n",
    "features = np.array([get_angles(x) for x in X_norm], requires_grad=False)\n",
    "Y = data[:, -1]\n",
    "\n"
   ]
  },
  {
   "cell_type": "markdown",
   "id": "389b8c45",
   "metadata": {},
   "source": [
    "# Visualizing"
   ]
  },
  {
   "cell_type": "code",
   "execution_count": 14,
   "id": "6d5b8798",
   "metadata": {
    "execution": {
     "iopub.execute_input": "2024-08-07T11:26:05.745163Z",
     "iopub.status.busy": "2024-08-07T11:26:05.744761Z",
     "iopub.status.idle": "2024-08-07T11:26:06.601785Z",
     "shell.execute_reply": "2024-08-07T11:26:06.600606Z"
    },
    "papermill": {
     "duration": 0.875727,
     "end_time": "2024-08-07T11:26:06.604427",
     "exception": false,
     "start_time": "2024-08-07T11:26:05.728700",
     "status": "completed"
    },
    "tags": []
   },
   "outputs": [
    {
     "data": {
      "image/png": "[encoded data removed]",
      "text/plain": [
       "<Figure size 640x480 with 1 Axes>"
      ]
     },
     "metadata": {},
     "output_type": "display_data"
    },
    {
     "data": {
      "image/png": "[encoded data removed]",
      "text/plain": [
       "<Figure size 640x480 with 1 Axes>"
      ]
     },
     "metadata": {},
     "output_type": "display_data"
    },
    {
     "data": {
      "image/png": "[encoded data removed]",
      "text/plain": [
       "<Figure size 640x480 with 1 Axes>"
      ]
     },
     "metadata": {},
     "output_type": "display_data"
    }
   ],
   "source": [
    "import matplotlib.pyplot as plt\n",
    "\n",
    "plt.figure()\n",
    "plt.scatter(X[:, 0][Y == 1], X[:, 1][Y == 1], c=\"b\", marker=\"o\", ec=\"k\")\n",
    "plt.scatter(X[:, 0][Y == -1], X[:, 1][Y == -1], c=\"r\", marker=\"o\", ec=\"k\")\n",
    "plt.title(\"Original data\")\n",
    "plt.show()\n",
    "\n",
    "plt.figure()\n",
    "dim1 = 0\n",
    "dim2 = 1\n",
    "plt.scatter(X_norm[:, dim1][Y == 1], X_norm[:, dim2][Y == 1], c=\"b\", marker=\"o\", ec=\"k\")\n",
    "plt.scatter(X_norm[:, dim1][Y == -1], X_norm[:, dim2][Y == -1], c=\"r\", marker=\"o\", ec=\"k\")\n",
    "plt.title(f\"Padded and normalised data (dims {dim1} and {dim2})\")\n",
    "plt.show()\n",
    "\n",
    "plt.figure()\n",
    "dim1 = 0\n",
    "dim2 = 3\n",
    "plt.scatter(features[:, dim1][Y == 1], features[:, dim2][Y == 1], c=\"b\", marker=\"o\", ec=\"k\")\n",
    "plt.scatter(features[:, dim1][Y == -1], features[:, dim2][Y == -1], c=\"r\", marker=\"o\", ec=\"k\")\n",
    "plt.title(f\"Feature vectors (dims {dim1} and {dim2})\")\n",
    "plt.show()"
   ]
  },
  {
   "cell_type": "markdown",
   "id": "94a33032",
   "metadata": {},
   "source": [
    "# Training"
   ]
  },
  {
   "cell_type": "code",
   "execution_count": 15,
   "id": "bd77bb1f",
   "metadata": {
    "execution": {
     "iopub.execute_input": "2024-08-07T11:26:06.639022Z",
     "iopub.status.busy": "2024-08-07T11:26:06.638594Z",
     "iopub.status.idle": "2024-08-07T11:26:06.649289Z",
     "shell.execute_reply": "2024-08-07T11:26:06.648173Z"
    },
    "papermill": {
     "duration": 0.030696,
     "end_time": "2024-08-07T11:26:06.651906",
     "exception": false,
     "start_time": "2024-08-07T11:26:06.621210",
     "status": "completed"
    },
    "tags": []
   },
   "outputs": [],
   "source": [
    "np.random.seed(0)# Reproducible Results\n",
    "num_data = len(Y)\n",
    "num_train = int(0.75 * num_data)\n",
    "index = np.random.permutation(range(num_data))\n",
    "feats_train = features[index[:num_train]]\n",
    "Y_train = Y[index[:num_train]]\n",
    "feats_val = features[index[num_train:]]\n",
    "Y_val = Y[index[num_train:]]\n",
    "X_train = X[index[:num_train]]\n",
    "X_val = X[index[num_train:]]\n",
    "num_qubits = 2\n",
    "num_layers = 7\n",
    "\n",
    "weights_init = 0.01 * np.random.randn(num_layers, num_qubits, 3, requires_grad=True)\n",
    "bias_init = np.array(0.0, requires_grad=True)"
   ]
  },
  {
   "cell_type": "code",
   "execution_count": 16,
   "id": "0afafd68",
   "metadata": {
    "execution": {
     "iopub.execute_input": "2024-08-07T11:26:06.686558Z",
     "iopub.status.busy": "2024-08-07T11:26:06.686168Z",
     "iopub.status.idle": "2024-08-07T11:27:18.928758Z",
     "shell.execute_reply": "2024-08-07T11:27:18.927699Z"
    },
    "papermill": {
     "duration": 72.262808,
     "end_time": "2024-08-07T11:27:18.931464",
     "exception": false,
     "start_time": "2024-08-07T11:26:06.668656",
     "status": "completed"
    },
    "tags": []
   },
   "outputs": [
    {
     "name": "stdout",
     "output_type": "stream",
     "text": [
      "Iter:     2 | Cost: 1.0380391 | Acc train: 0.4800000 | Acc validation: 0.5600000\n",
      "Iter:     4 | Cost: 0.9411810 | Acc train: 0.6133333 | Acc validation: 0.7200000\n",
      "Iter:     6 | Cost: 0.8671026 | Acc train: 0.8133333 | Acc validation: 0.8000000\n",
      "Iter:     8 | Cost: 0.7887607 | Acc train: 0.8800000 | Acc validation: 0.8800000\n",
      "Iter:    10 | Cost: 0.7052309 | Acc train: 0.9733333 | Acc validation: 1.0000000\n",
      "Iter:    12 | Cost: 0.6303518 | Acc train: 0.9866667 | Acc validation: 0.9600000\n",
      "Iter:    14 | Cost: 0.5634345 | Acc train: 0.9733333 | Acc validation: 0.8800000\n",
      "Iter:    16 | Cost: 0.4904051 | Acc train: 0.9866667 | Acc validation: 0.9600000\n",
      "Iter:    18 | Cost: 0.4179428 | Acc train: 0.9866667 | Acc validation: 1.0000000\n",
      "Iter:    20 | Cost: 0.3559829 | Acc train: 0.9866667 | Acc validation: 1.0000000\n",
      "Iter:    22 | Cost: 0.3141256 | Acc train: 0.9866667 | Acc validation: 1.0000000\n",
      "Iter:    24 | Cost: 0.2863580 | Acc train: 1.0000000 | Acc validation: 1.0000000\n",
      "Iter:    26 | Cost: 0.2685286 | Acc train: 0.9866667 | Acc validation: 1.0000000\n",
      "Iter:    28 | Cost: 0.2617202 | Acc train: 0.9866667 | Acc validation: 1.0000000\n",
      "Iter:    30 | Cost: 0.2535658 | Acc train: 0.9733333 | Acc validation: 1.0000000\n",
      "Iter:    32 | Cost: 0.2427972 | Acc train: 0.9866667 | Acc validation: 1.0000000\n",
      "Iter:    34 | Cost: 0.2343748 | Acc train: 0.9866667 | Acc validation: 1.0000000\n",
      "Iter:    36 | Cost: 0.2255228 | Acc train: 0.9866667 | Acc validation: 1.0000000\n",
      "Iter:    38 | Cost: 0.2219388 | Acc train: 0.9866667 | Acc validation: 1.0000000\n",
      "Iter:    40 | Cost: 0.2227894 | Acc train: 0.9866667 | Acc validation: 1.0000000\n",
      "Iter:    42 | Cost: 0.2171467 | Acc train: 0.9866667 | Acc validation: 1.0000000\n",
      "Iter:    44 | Cost: 0.2170349 | Acc train: 1.0000000 | Acc validation: 1.0000000\n",
      "Iter:    46 | Cost: 0.2161578 | Acc train: 1.0000000 | Acc validation: 1.0000000\n",
      "Iter:    48 | Cost: 0.2187152 | Acc train: 0.9866667 | Acc validation: 1.0000000\n",
      "Iter:    50 | Cost: 0.2186939 | Acc train: 0.9866667 | Acc validation: 1.0000000\n",
      "Iter:    52 | Cost: 0.2137999 | Acc train: 1.0000000 | Acc validation: 1.0000000\n",
      "Iter:    54 | Cost: 0.2128919 | Acc train: 1.0000000 | Acc validation: 1.0000000\n",
      "Iter:    56 | Cost: 0.2144929 | Acc train: 1.0000000 | Acc validation: 1.0000000\n",
      "Iter:    58 | Cost: 0.2128501 | Acc train: 1.0000000 | Acc validation: 1.0000000\n",
      "Iter:    60 | Cost: 0.2117640 | Acc train: 1.0000000 | Acc validation: 1.0000000\n"
     ]
    }
   ],
   "source": [
    "opt = AdamOptimizer(0.01)\n",
    "batch_size = 5\n",
    "\n",
    "weights = weights_init\n",
    "bias = bias_init\n",
    "for it in range(60):\n",
    "    batch_index = np.random.randint(0, num_train, (batch_size,))\n",
    "    feats_train_batch = feats_train[batch_index]\n",
    "    Y_train_batch = Y_train[batch_index]\n",
    "    weights, bias, _, _ = opt.step(cost, weights, bias, feats_train_batch, Y_train_batch)\n",
    "\n",
    "    predictions_train = np.sign(variational_classifier(weights, bias, feats_train.T))\n",
    "    predictions_val = np.sign(variational_classifier(weights, bias, feats_val.T))\n",
    "\n",
    "    acc_train = accuracy(Y_train, predictions_train)\n",
    "    acc_val = accuracy(Y_val, predictions_val)\n",
    "\n",
    "    if (it + 1) % 2 == 0:\n",
    "        _cost = cost(weights, bias, features, Y)\n",
    "        print(\n",
    "            f\"Iter: {it + 1:5d} | Cost: {_cost:0.7f} | \"\n",
    "            f\"Acc train: {acc_train:0.7f} | Acc validation: {acc_val:0.7f}\"\n",
    "        )"
   ]
  },
  {
   "cell_type": "markdown",
   "id": "486366ed",
   "metadata": {
    "papermill": {
     "duration": 0.018631,
     "end_time": "2024-08-07T11:27:18.969382",
     "exception": false,
     "start_time": "2024-08-07T11:27:18.950751",
     "status": "completed"
    },
    "tags": []
   },
   "source": [
    "As we can see using Hadamard at qubit 0, has significantly sped up the convergence."
   ]
  },
  {
   "cell_type": "code",
   "execution_count": 17,
   "id": "c4d1ddd3",
   "metadata": {
    "execution": {
     "iopub.execute_input": "2024-08-07T11:27:19.010488Z",
     "iopub.status.busy": "2024-08-07T11:27:19.010018Z",
     "iopub.status.idle": "2024-08-07T11:27:27.035000Z",
     "shell.execute_reply": "2024-08-07T11:27:27.033816Z"
    },
    "papermill": {
     "duration": 8.052566,
     "end_time": "2024-08-07T11:27:27.040953",
     "exception": false,
     "start_time": "2024-08-07T11:27:18.988387",
     "status": "completed"
    },
    "tags": []
   },
   "outputs": [
    {
     "data": {
      "image/png": "[encoded data removed]",
      "text/plain": [
       "<Figure size 640x480 with 2 Axes>"
      ]
     },
     "metadata": {},
     "output_type": "display_data"
    }
   ],
   "source": [
    "plt.figure()\n",
    "cm = plt.cm.RdBu\n",
    "\n",
    "xx, yy = np.meshgrid(np.linspace(0.0, 1.5, 30), np.linspace(0.0, 1.5, 30))\n",
    "X_grid = [np.array([x, y]) for x, y in zip(xx.flatten(), yy.flatten())]\n",
    "\n",
    "padding = 0.1 * np.ones((len(X_grid), 2))\n",
    "X_grid = np.c_[X_grid, padding]  # pad each input\n",
    "normalization = np.sqrt(np.sum(X_grid**2, -1))\n",
    "X_grid = (X_grid.T / normalization).T  # normalize each input\n",
    "features_grid = np.array([get_angles(x) for x in X_grid])  # angles are new features\n",
    "predictions_grid = variational_classifier(weights, bias, features_grid.T)\n",
    "Z = np.reshape(predictions_grid, xx.shape)\n",
    "\n",
    "levels = np.arange(-1, 1.1, 0.1)\n",
    "cnt = plt.contourf(xx, yy, Z, levels=levels, cmap=cm, alpha=0.8, extend=\"both\")\n",
    "plt.contour(xx, yy, Z, levels=[0.0], colors=(\"black\",), linestyles=(\"--\",), linewidths=(0.8,))\n",
    "plt.colorbar(cnt, ticks=[-1, 0, 1])\n",
    "\n",
    "for color, label in zip([\"b\", \"r\"], [1, -1]):\n",
    "    plot_x = X_train[:, 0][Y_train == label]\n",
    "    plot_y = X_train[:, 1][Y_train == label]\n",
    "    plt.scatter(plot_x, plot_y, c=color, marker=\"o\", ec=\"k\", label=f\"class {label} train\")\n",
    "    plot_x = (X_val[:, 0][Y_val == label],)\n",
    "    plot_y = (X_val[:, 1][Y_val == label],)\n",
    "    plt.scatter(plot_x, plot_y, c=color, marker=\"^\", ec=\"k\", label=f\"class {label} validation\")\n",
    "\n",
    "plt.legend()\n",
    "plt.show()"
   ]
  }
 ],
 "metadata": {
  "kaggle": {
   "accelerator": "none",
   "dataSources": [
    {
     "datasetId": 5486271,
     "sourceId": 9091539,
     "sourceType": "datasetVersion"
    },
    {
     "datasetId": 5486429,
     "sourceId": 9091743,
     "sourceType": "datasetVersion"
    }
   ],
   "dockerImageVersionId": 30746,
   "isGpuEnabled": false,
   "isInternetEnabled": true,
   "language": "python",
   "sourceType": "notebook"
  },
  "kernelspec": {
   "display_name": "Python 3",
   "language": "python",
   "name": "python3"
  },
  "language_info": {
   "codemirror_mode": {
    "name": "ipython",
    "version": 3
   },
   "file_extension": ".py",
   "mimetype": "text/x-python",
   "name": "python",
   "nbconvert_exporter": "python",
   "pygments_lexer": "ipython3",
   "version": "3.10.13"
  },
  "papermill": {
   "default_parameters": {},
   "duration": 123.702924,
   "end_time": "2024-08-07T11:27:28.100058",
   "environment_variables": {},
   "exception": null,
   "input_path": "__notebook__.ipynb",
   "output_path": "__notebook__.ipynb",
   "parameters": {},
   "start_time": "2024-08-07T11:25:24.397134",
   "version": "2.5.0"
  }
 },
 "nbformat": 4,
 "nbformat_minor": 5
}
