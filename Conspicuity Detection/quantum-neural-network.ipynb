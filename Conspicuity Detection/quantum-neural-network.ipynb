{
 "cells": [
  {
   "cell_type": "markdown",
   "id": "7aac3fee",
   "metadata": {
    "papermill": {
     "duration": 0.008805,
     "end_time": "2024-08-09T13:49:58.409643",
     "exception": false,
     "start_time": "2024-08-09T13:49:58.400838",
     "status": "completed"
    },
    "tags": []
   },
   "source": [
    "# **Neural Network based Approach**\n",
    "\n",
    "This notebook aims to classify images as that of defective/non defective productions. For this purpose it uses A Quantum Neural Network model, based on MERA circuit.\n"
   ]
  },
  {
   "cell_type": "code",
   "execution_count": 1,
   "id": "181e6e77",
   "metadata": {
    "_cell_guid": "b1076dfc-b9ad-4769-8c92-a6c4dae69d19",
    "_uuid": "8f2839f25d086af736a60e9eeb907d3b93b6e0e5",
    "execution": {
     "iopub.execute_input": "2024-08-09T13:49:58.428234Z",
     "iopub.status.busy": "2024-08-09T13:49:58.427802Z",
     "iopub.status.idle": "2024-08-09T13:50:21.679057Z",
     "shell.execute_reply": "2024-08-09T13:50:21.677751Z"
    },
    "papermill": {
     "duration": 23.264156,
     "end_time": "2024-08-09T13:50:21.682120",
     "exception": false,
     "start_time": "2024-08-09T13:49:58.417964",
     "status": "completed"
    },
    "tags": []
   },
   "outputs": [
    {
     "name": "stdout",
     "output_type": "stream",
     "text": [
      "Collecting pennylane\r\n",
      "  Downloading PennyLane-0.37.0-py3-none-any.whl.metadata (9.3 kB)\r\n",
      "Requirement already satisfied: numpy<2.0 in /opt/conda/lib/python3.10/site-packages (from pennylane) (1.26.4)\r\n",
      "Requirement already satisfied: scipy in /opt/conda/lib/python3.10/site-packages (from pennylane) (1.11.4)\r\n",
      "Requirement already satisfied: networkx in /opt/conda/lib/python3.10/site-packages (from pennylane) (3.2.1)\r\n",
      "Collecting rustworkx (from pennylane)\r\n",
      "  Downloading rustworkx-0.15.1-cp38-abi3-manylinux_2_17_x86_64.manylinux2014_x86_64.whl.metadata (9.9 kB)\r\n",
      "Collecting autograd (from pennylane)\r\n",
      "  Downloading autograd-1.6.2-py3-none-any.whl.metadata (706 bytes)\r\n",
      "Requirement already satisfied: toml in /opt/conda/lib/python3.10/site-packages (from pennylane) (0.10.2)\r\n",
      "Collecting appdirs (from pennylane)\r\n",
      "  Downloading appdirs-1.4.4-py2.py3-none-any.whl.metadata (9.0 kB)\r\n",
      "Collecting semantic-version>=2.7 (from pennylane)\r\n",
      "  Downloading semantic_version-2.10.0-py2.py3-none-any.whl.metadata (9.7 kB)\r\n",
      "Collecting autoray>=0.6.11 (from pennylane)\r\n",
      "  Downloading autoray-0.6.12-py3-none-any.whl.metadata (5.7 kB)\r\n",
      "Requirement already satisfied: cachetools in /opt/conda/lib/python3.10/site-packages (from pennylane) (4.2.4)\r\n",
      "Collecting pennylane-lightning>=0.37 (from pennylane)\r\n",
      "  Downloading PennyLane_Lightning-0.37.0-cp310-cp310-manylinux_2_28_x86_64.whl.metadata (23 kB)\r\n",
      "Requirement already satisfied: requests in /opt/conda/lib/python3.10/site-packages (from pennylane) (2.32.3)\r\n",
      "Requirement already satisfied: typing-extensions in /opt/conda/lib/python3.10/site-packages (from pennylane) (4.9.0)\r\n",
      "Requirement already satisfied: packaging in /opt/conda/lib/python3.10/site-packages (from pennylane) (21.3)\r\n",
      "Requirement already satisfied: future>=0.15.2 in /opt/conda/lib/python3.10/site-packages (from autograd->pennylane) (1.0.0)\r\n",
      "Requirement already satisfied: pyparsing!=3.0.5,>=2.0.2 in /opt/conda/lib/python3.10/site-packages (from packaging->pennylane) (3.1.1)\r\n",
      "Requirement already satisfied: charset-normalizer<4,>=2 in /opt/conda/lib/python3.10/site-packages (from requests->pennylane) (3.3.2)\r\n",
      "Requirement already satisfied: idna<4,>=2.5 in /opt/conda/lib/python3.10/site-packages (from requests->pennylane) (3.6)\r\n",
      "Requirement already satisfied: urllib3<3,>=1.21.1 in /opt/conda/lib/python3.10/site-packages (from requests->pennylane) (1.26.18)\r\n",
      "Requirement already satisfied: certifi>=2017.4.17 in /opt/conda/lib/python3.10/site-packages (from requests->pennylane) (2024.7.4)\r\n",
      "Downloading PennyLane-0.37.0-py3-none-any.whl (1.8 MB)\r\n",
      "\u001b[2K   \u001b[90m━━━━━━━━━━━━━━━━━━━━━━━━━━━━━━━━━━━━━━━━\u001b[0m \u001b[32m1.8/1.8 MB\u001b[0m \u001b[31m19.6 MB/s\u001b[0m eta \u001b[36m0:00:00\u001b[0m\r\n",
      "\u001b[?25hDownloading autoray-0.6.12-py3-none-any.whl (50 kB)\r\n",
      "\u001b[2K   \u001b[90m━━━━━━━━━━━━━━━━━━━━━━━━━━━━━━━━━━━━━━━━\u001b[0m \u001b[32m51.0/51.0 kB\u001b[0m \u001b[31m2.2 MB/s\u001b[0m eta \u001b[36m0:00:00\u001b[0m\r\n",
      "\u001b[?25hDownloading PennyLane_Lightning-0.37.0-cp310-cp310-manylinux_2_28_x86_64.whl (15.5 MB)\r\n",
      "\u001b[2K   \u001b[90m━━━━━━━━━━━━━━━━━━━━━━━━━━━━━━━━━━━━━━━━\u001b[0m \u001b[32m15.5/15.5 MB\u001b[0m \u001b[31m56.7 MB/s\u001b[0m eta \u001b[36m0:00:00\u001b[0m\r\n",
      "\u001b[?25hDownloading semantic_version-2.10.0-py2.py3-none-any.whl (15 kB)\r\n",
      "Downloading appdirs-1.4.4-py2.py3-none-any.whl (9.6 kB)\r\n",
      "Downloading autograd-1.6.2-py3-none-any.whl (49 kB)\r\n",
      "\u001b[2K   \u001b[90m━━━━━━━━━━━━━━━━━━━━━━━━━━━━━━━━━━━━━━━━\u001b[0m \u001b[32m49.3/49.3 kB\u001b[0m \u001b[31m2.1 MB/s\u001b[0m eta \u001b[36m0:00:00\u001b[0m\r\n",
      "\u001b[?25hDownloading rustworkx-0.15.1-cp38-abi3-manylinux_2_17_x86_64.manylinux2014_x86_64.whl (2.0 MB)\r\n",
      "\u001b[2K   \u001b[90m━━━━━━━━━━━━━━━━━━━━━━━━━━━━━━━━━━━━━━━━\u001b[0m \u001b[32m2.0/2.0 MB\u001b[0m \u001b[31m41.8 MB/s\u001b[0m eta \u001b[36m0:00:00\u001b[0m\r\n",
      "\u001b[?25hInstalling collected packages: appdirs, semantic-version, rustworkx, autoray, autograd, pennylane-lightning, pennylane\r\n",
      "Successfully installed appdirs-1.4.4 autograd-1.6.2 autoray-0.6.12 pennylane-0.37.0 pennylane-lightning-0.37.0 rustworkx-0.15.1 semantic-version-2.10.0\r\n"
     ]
    }
   ],
   "source": [
    "!pip install pennylane"
   ]
  },
  {
   "cell_type": "markdown",
   "id": "3e0d6447",
   "metadata": {
    "papermill": {
     "duration": 0.011768,
     "end_time": "2024-08-09T13:50:21.705613",
     "exception": false,
     "start_time": "2024-08-09T13:50:21.693845",
     "status": "completed"
    },
    "tags": []
   },
   "source": [
    "# Data Loading "
   ]
  },
  {
   "cell_type": "code",
   "execution_count": 2,
   "id": "1c3853c8",
   "metadata": {
    "execution": {
     "iopub.execute_input": "2024-08-09T13:50:21.731688Z",
     "iopub.status.busy": "2024-08-09T13:50:21.731138Z",
     "iopub.status.idle": "2024-08-09T13:51:50.231645Z",
     "shell.execute_reply": "2024-08-09T13:51:50.230264Z"
    },
    "papermill": {
     "duration": 88.517565,
     "end_time": "2024-08-09T13:51:50.234859",
     "exception": false,
     "start_time": "2024-08-09T13:50:21.717294",
     "status": "completed"
    },
    "tags": []
   },
   "outputs": [
    {
     "name": "stderr",
     "output_type": "stream",
     "text": [
      "2024-08-09 13:50:24.028622: E external/local_xla/xla/stream_executor/cuda/cuda_dnn.cc:9261] Unable to register cuDNN factory: Attempting to register factory for plugin cuDNN when one has already been registered\n",
      "2024-08-09 13:50:24.028780: E external/local_xla/xla/stream_executor/cuda/cuda_fft.cc:607] Unable to register cuFFT factory: Attempting to register factory for plugin cuFFT when one has already been registered\n",
      "2024-08-09 13:50:24.188186: E external/local_xla/xla/stream_executor/cuda/cuda_blas.cc:1515] Unable to register cuBLAS factory: Attempting to register factory for plugin cuBLAS when one has already been registered\n"
     ]
    }
   ],
   "source": [
    "import os\n",
    "import json\n",
    "import numpy as np\n",
    "import tensorflow as tf\n",
    "from sklearn.model_selection import train_test_split\n",
    "\n",
    "base_dir = '/kaggle/input/tig-aluminium-5083/al5083'\n",
    "train_dir = os.path.join(base_dir, 'train')\n",
    "test_dir = os.path.join(base_dir, 'test')\n",
    "\n",
    "train_json_path = os.path.join(train_dir, 'train.json')\n",
    "\n",
    "with open(train_json_path, 'r') as f:\n",
    "    train_data = json.load(f)\n",
    "\n",
    "def load_and_preprocess_image(image_path, img_size=(64, 64)):\n",
    "    img = tf.keras.preprocessing.image.load_img(image_path, target_size=img_size)\n",
    "    img = tf.keras.preprocessing.image.img_to_array(img)\n",
    "    img = img / 255.0 \n",
    "    img = img.flatten()  \n",
    "    return img\n",
    "\n",
    "image_paths = []\n",
    "labels = []\n",
    "for image_path, label in train_data.items():\n",
    "    if label in [0, 1,2,3,4,5]:\n",
    "        full_image_path = os.path.join(train_dir, image_path)\n",
    "        if os.path.exists(full_image_path): \n",
    "            image_paths.append(full_image_path)\n",
    "            if label in [2,3,4,5]:\n",
    "                labels.append(1)\n",
    "            else:\n",
    "                labels.append(label)\n"
   ]
  },
  {
   "cell_type": "markdown",
   "id": "d9c6ae66",
   "metadata": {
    "papermill": {
     "duration": 0.011688,
     "end_time": "2024-08-09T13:51:50.258872",
     "exception": false,
     "start_time": "2024-08-09T13:51:50.247184",
     "status": "completed"
    },
    "tags": []
   },
   "source": [
    "**Loading Images**"
   ]
  },
  {
   "cell_type": "code",
   "execution_count": 3,
   "id": "1a083db8",
   "metadata": {
    "execution": {
     "iopub.execute_input": "2024-08-09T13:51:50.284854Z",
     "iopub.status.busy": "2024-08-09T13:51:50.284064Z",
     "iopub.status.idle": "2024-08-09T13:59:22.933643Z",
     "shell.execute_reply": "2024-08-09T13:59:22.932281Z"
    },
    "papermill": {
     "duration": 452.679379,
     "end_time": "2024-08-09T13:59:22.950201",
     "exception": false,
     "start_time": "2024-08-09T13:51:50.270822",
     "status": "completed"
    },
    "tags": []
   },
   "outputs": [
    {
     "name": "stdout",
     "output_type": "stream",
     "text": [
      "26666\n"
     ]
    }
   ],
   "source": [
    "images=np.array([load_and_preprocess_image(img_path) for img_path in image_paths])\n",
    "print(len(images))"
   ]
  },
  {
   "cell_type": "markdown",
   "id": "3e8a5684",
   "metadata": {
    "papermill": {
     "duration": 0.011718,
     "end_time": "2024-08-09T13:59:22.974292",
     "exception": false,
     "start_time": "2024-08-09T13:59:22.962574",
     "status": "completed"
    },
    "tags": []
   },
   "source": [
    "**Determining the number of componenets, using PCA**"
   ]
  },
  {
   "cell_type": "code",
   "execution_count": 4,
   "id": "97e5e9b0",
   "metadata": {
    "execution": {
     "iopub.execute_input": "2024-08-09T13:59:23.001132Z",
     "iopub.status.busy": "2024-08-09T13:59:23.000694Z",
     "iopub.status.idle": "2024-08-09T14:10:23.603868Z",
     "shell.execute_reply": "2024-08-09T14:10:23.602267Z"
    },
    "papermill": {
     "duration": 660.638107,
     "end_time": "2024-08-09T14:10:23.624738",
     "exception": false,
     "start_time": "2024-08-09T13:59:22.986631",
     "status": "completed"
    },
    "tags": []
   },
   "outputs": [
    {
     "data": {
      "image/png": "[encoded data removed]",
      "text/plain": [
       "<Figure size 1000x600 with 1 Axes>"
      ]
     },
     "metadata": {},
     "output_type": "display_data"
    }
   ],
   "source": [
    "from sklearn.decomposition import PCA\n",
    "import matplotlib.pyplot as plt\n",
    "\n",
    "pca = PCA()\n",
    "pca.fit(images)\n",
    "\n",
    "cumulative_explained_variance = np.cumsum(pca.explained_variance_ratio_)\n",
    "\n",
    "plt.figure(figsize=(10, 6))\n",
    "plt.plot(cumulative_explained_variance, marker='o', linestyle='--')\n",
    "plt.xlabel('Number of Components')\n",
    "plt.ylabel('Cumulative Explained Variance')\n",
    "plt.title('Explained Variance vs. Number of PCA Components')\n",
    "plt.grid(True)\n",
    "plt.show()"
   ]
  },
  {
   "cell_type": "code",
   "execution_count": 5,
   "id": "e36eb57f",
   "metadata": {
    "execution": {
     "iopub.execute_input": "2024-08-09T14:10:23.653154Z",
     "iopub.status.busy": "2024-08-09T14:10:23.652718Z",
     "iopub.status.idle": "2024-08-09T14:10:23.659730Z",
     "shell.execute_reply": "2024-08-09T14:10:23.658540Z"
    },
    "papermill": {
     "duration": 0.024961,
     "end_time": "2024-08-09T14:10:23.662433",
     "exception": false,
     "start_time": "2024-08-09T14:10:23.637472",
     "status": "completed"
    },
    "tags": []
   },
   "outputs": [
    {
     "name": "stdout",
     "output_type": "stream",
     "text": [
      "Number of components that explain 80% of the variance: 12\n"
     ]
    }
   ],
   "source": [
    "optimal_components = np.argmax(cumulative_explained_variance >= 0.80) + 1\n",
    "print(f\"Number of components that explain 80% of the variance: {optimal_components}\")"
   ]
  },
  {
   "cell_type": "markdown",
   "id": "f51cea25",
   "metadata": {
    "papermill": {
     "duration": 0.013667,
     "end_time": "2024-08-09T14:10:23.688865",
     "exception": false,
     "start_time": "2024-08-09T14:10:23.675198",
     "status": "completed"
    },
    "tags": []
   },
   "source": [
    "As 12 qubits capture, around 80% variance, I will progress with using 16 qubits, to capture more variance while making sure that computation does not become too expensive."
   ]
  },
  {
   "cell_type": "markdown",
   "id": "ebf64c94",
   "metadata": {
    "papermill": {
     "duration": 0.012559,
     "end_time": "2024-08-09T14:10:23.714439",
     "exception": false,
     "start_time": "2024-08-09T14:10:23.701880",
     "status": "completed"
    },
    "tags": []
   },
   "source": [
    "**Splitting into test-train dataset**"
   ]
  },
  {
   "cell_type": "code",
   "execution_count": 6,
   "id": "d2818449",
   "metadata": {
    "execution": {
     "iopub.execute_input": "2024-08-09T14:10:23.741927Z",
     "iopub.status.busy": "2024-08-09T14:10:23.741506Z",
     "iopub.status.idle": "2024-08-09T14:10:32.385282Z",
     "shell.execute_reply": "2024-08-09T14:10:32.383733Z"
    },
    "papermill": {
     "duration": 8.662633,
     "end_time": "2024-08-09T14:10:32.389871",
     "exception": false,
     "start_time": "2024-08-09T14:10:23.727238",
     "status": "completed"
    },
    "tags": []
   },
   "outputs": [
    {
     "name": "stdout",
     "output_type": "stream",
     "text": [
      "Counter({1: 13431, 0: 6568}) Counter({1: 4477, 0: 2190})\n"
     ]
    }
   ],
   "source": [
    "#Splitting Data into Train/Test dataset\n",
    "X_train, X_val, y_train, y_val = train_test_split(images, labels, test_size=0.25, random_state=42,stratify=labels)\n",
    "from collections import Counter\n",
    "print(Counter(y_train),Counter(y_val))\n",
    "\n",
    "from sklearn.decomposition import PCA\n",
    "from sklearn.preprocessing import MinMaxScaler\n",
    "\n",
    "pca = PCA(n_components=16)\n",
    "X_train = pca.fit_transform(X_train)\n",
    "X_val = pca.transform(X_val)\n",
    "\n",
    "scaler = MinMaxScaler()\n",
    "X_train = scaler.fit_transform(X_train)\n",
    "X_val = scaler.transform(X_val)"
   ]
  },
  {
   "cell_type": "markdown",
   "id": "3ebc4910",
   "metadata": {
    "papermill": {
     "duration": 0.026638,
     "end_time": "2024-08-09T14:10:32.443573",
     "exception": false,
     "start_time": "2024-08-09T14:10:32.416935",
     "status": "completed"
    },
    "tags": []
   },
   "source": [
    "# Neural Networks\n",
    "**MERA cirucit based approach**\n",
    "\n",
    "The following uses a [MERA](https://arxiv.org/abs/quant-ph/0610099) based circuit for Image Classification,along with a very basic classical Model that has only input and output layers. \n",
    "\n",
    "MERA circuits not only improve the model performance, they are also pretty efficient. The same block would take considerably longer to run, with worse results, without the MERA circuit.\n",
    "\n"
   ]
  },
  {
   "cell_type": "code",
   "execution_count": 7,
   "id": "f8319922",
   "metadata": {
    "execution": {
     "iopub.execute_input": "2024-08-09T14:10:32.495587Z",
     "iopub.status.busy": "2024-08-09T14:10:32.495178Z",
     "iopub.status.idle": "2024-08-09T14:10:39.274320Z",
     "shell.execute_reply": "2024-08-09T14:10:39.272972Z"
    },
    "papermill": {
     "duration": 6.807165,
     "end_time": "2024-08-09T14:10:39.277567",
     "exception": false,
     "start_time": "2024-08-09T14:10:32.470402",
     "status": "completed"
    },
    "tags": []
   },
   "outputs": [],
   "source": [
    "import pennylane as qml\n",
    "import numpy as np\n",
    "from pennylane import numpy as pnp\n",
    "from sklearn.preprocessing import StandardScaler\n",
    "from sklearn.model_selection import train_test_split\n",
    "from sklearn.metrics import accuracy_score\n",
    "import torch\n",
    "seed = 12345\n",
    "np.random.seed(seed=seed)\n",
    "import torch.nn as nn\n",
    "import torch.optim as optim\n",
    "n_qubits = 16\n",
    "n_layers = 4\n",
    "import jax\n",
    "import jax.numpy as jnp\n",
    "import pennylane as qml\n",
    "from pennylane import numpy as pnp\n",
    "import numpy as np\n",
    "import tensorflow as tf\n",
    "from tensorflow.keras import layers, models, optimizers, callbacks\n",
    "from sklearn.utils.class_weight import compute_class_weight\n",
    "from sklearn.metrics import f1_score, confusion_matrix, roc_curve, auc\n",
    "import matplotlib.pyplot as plt\n",
    "import seaborn as sns\n",
    "\n",
    "dev = qml.device(\"lightning.qubit\", wires=n_qubits)"
   ]
  },
  {
   "cell_type": "markdown",
   "id": "cab24f25",
   "metadata": {
    "papermill": {
     "duration": 0.013138,
     "end_time": "2024-08-09T14:10:39.304133",
     "exception": false,
     "start_time": "2024-08-09T14:10:39.290995",
     "status": "completed"
    },
    "tags": []
   },
   "source": [
    "**Defining the Quantum circuit and the MERA block**"
   ]
  },
  {
   "cell_type": "code",
   "execution_count": 8,
   "id": "aaa58ef5",
   "metadata": {
    "execution": {
     "iopub.execute_input": "2024-08-09T14:10:39.332750Z",
     "iopub.status.busy": "2024-08-09T14:10:39.331881Z",
     "iopub.status.idle": "2024-08-09T14:10:39.349512Z",
     "shell.execute_reply": "2024-08-09T14:10:39.348188Z"
    },
    "papermill": {
     "duration": 0.035084,
     "end_time": "2024-08-09T14:10:39.352324",
     "exception": false,
     "start_time": "2024-08-09T14:10:39.317240",
     "status": "completed"
    },
    "tags": []
   },
   "outputs": [],
   "source": [
    "import pennylane as qml\n",
    "\n",
    "def block(weights, wires):\n",
    "    # Applying layered rotations\n",
    "    for i, wire in enumerate(wires):\n",
    "        qml.RX(weights[i], wires=wire)\n",
    "        qml.RY(weights[i + len(wires)], wires=wire)\n",
    "\n",
    "    # Applying entanglement \n",
    "    for i in range(len(wires) - 1):\n",
    "        qml.CZ(wires=[wires[i], wires[i + 1]])\n",
    "\n",
    "    # Ising gates \n",
    "    for i in range(len(wires) - 1):\n",
    "        qml.IsingXX(weights[i + 2 * len(wires)], wires=[wires[i], wires[i + 1]])\n",
    "        qml.IsingZZ(weights[i + 3 * len(wires)], wires=[wires[i], wires[i + 1]])\n",
    "        qml.IsingXY(weights[i + 4 * len(wires)], wires=[wires[i], wires[i + 1]])\n",
    "\n",
    "n_block_wires = 2\n",
    "n_params_block = 5 * n_block_wires\n",
    "n_blocks = qml.MERA.get_n_blocks(range(n_qubits), n_block_wires)\n",
    "\n",
    "@qml.qnode(dev)\n",
    "def quantum_circuit(inputs, weights):\n",
    "    qml.AngleEmbedding(inputs, wires=range(n_qubits))\n",
    "    qml.MERA(range(n_qubits), n_block_wires, block, n_params_block, weights)\n",
    "    return [qml.expval(qml.PauliZ(i)) for i in range(n_qubits)]\n",
    "from pennylane import draw\n",
    "\n",
    "\n"
   ]
  },
  {
   "cell_type": "markdown",
   "id": "223f08b5",
   "metadata": {
    "papermill": {
     "duration": 0.013121,
     "end_time": "2024-08-09T14:10:39.378620",
     "exception": false,
     "start_time": "2024-08-09T14:10:39.365499",
     "status": "completed"
    },
    "tags": []
   },
   "source": [
    "Defining the Hybrid Model, a combination of Qunatum Neural Network, and a classical post processing network"
   ]
  },
  {
   "cell_type": "code",
   "execution_count": 9,
   "id": "e1bb2bc3",
   "metadata": {
    "execution": {
     "iopub.execute_input": "2024-08-09T14:10:39.407015Z",
     "iopub.status.busy": "2024-08-09T14:10:39.406550Z",
     "iopub.status.idle": "2024-08-09T14:10:39.416643Z",
     "shell.execute_reply": "2024-08-09T14:10:39.415470Z"
    },
    "papermill": {
     "duration": 0.027793,
     "end_time": "2024-08-09T14:10:39.419354",
     "exception": false,
     "start_time": "2024-08-09T14:10:39.391561",
     "status": "completed"
    },
    "tags": []
   },
   "outputs": [],
   "source": [
    "class HybridModel(nn.Module):\n",
    "    def __init__(self, n_qubits, n_layers, n_classes):\n",
    "        super().__init__()\n",
    "        self.n_qubits = n_qubits\n",
    "        self.n_layers = n_layers\n",
    "        self.n_blocks = qml.MERA.get_n_blocks(range(n_qubits), n_block_wires)\n",
    "        self.q_params = nn.Parameter(torch.randn(self.n_blocks, n_params_block, dtype=torch.float32))\n",
    "        self.post_net = nn.Sequential(\n",
    "            nn.Linear(n_qubits, 64),\n",
    "            nn.ReLU(),\n",
    "            nn.Linear(64, n_classes)\n",
    "        )\n",
    "\n",
    "    def forward(self, x):\n",
    "        q_out = torch.stack([torch.tensor(quantum_circuit(x_i, self.q_params.detach().numpy()), dtype=x.dtype) for x_i in x])\n",
    "        return self.post_net(q_out)\n"
   ]
  },
  {
   "cell_type": "code",
   "execution_count": 10,
   "id": "9d4d4c4f",
   "metadata": {
    "execution": {
     "iopub.execute_input": "2024-08-09T14:10:39.447777Z",
     "iopub.status.busy": "2024-08-09T14:10:39.447301Z",
     "iopub.status.idle": "2024-08-09T14:11:02.204455Z",
     "shell.execute_reply": "2024-08-09T14:11:02.203206Z"
    },
    "papermill": {
     "duration": 22.775075,
     "end_time": "2024-08-09T14:11:02.207809",
     "exception": false,
     "start_time": "2024-08-09T14:10:39.432734",
     "status": "completed"
    },
    "tags": []
   },
   "outputs": [
    {
     "data": {
      "text/plain": [
       "<function pennylane.drawer.draw.draw.<locals>.wrapper>"
      ]
     },
     "execution_count": 10,
     "metadata": {},
     "output_type": "execute_result"
    }
   ],
   "source": [
    "model = HybridModel(n_qubits, n_layers,2)\n",
    "\n",
    "\n",
    "criterion = nn.CrossEntropyLoss()\n",
    "optimizer = optim.Adam(model.parameters(), lr=0.01)\n",
    "\n",
    "# Training loop\n",
    "n_epochs = 7\n",
    "batch_size = 32\n",
    "X_train_tensor = torch.FloatTensor(X_train)\n",
    "y_train_tensor = torch.LongTensor(y_train)\n",
    "X_test_tensor = torch.FloatTensor(X_val)\n",
    "y_test_tensor = torch.LongTensor(y_val)\n",
    "draw(quantum_circuit(X_train_tensor[:batch_size],weights=nn.Parameter(torch.randn(n_blocks, n_params_block, dtype=torch.float32))))\n",
    "\n"
   ]
  },
  {
   "cell_type": "markdown",
   "id": "765581b9",
   "metadata": {
    "papermill": {
     "duration": 0.013291,
     "end_time": "2024-08-09T14:11:02.239355",
     "exception": false,
     "start_time": "2024-08-09T14:11:02.226064",
     "status": "completed"
    },
    "tags": []
   },
   "source": [
    "# Training"
   ]
  },
  {
   "cell_type": "code",
   "execution_count": 11,
   "id": "d549137b",
   "metadata": {
    "execution": {
     "iopub.execute_input": "2024-08-09T14:11:02.268705Z",
     "iopub.status.busy": "2024-08-09T14:11:02.268246Z",
     "iopub.status.idle": "2024-08-09T15:51:30.670522Z",
     "shell.execute_reply": "2024-08-09T15:51:30.669341Z"
    },
    "papermill": {
     "duration": 6028.435229,
     "end_time": "2024-08-09T15:51:30.688523",
     "exception": false,
     "start_time": "2024-08-09T14:11:02.253294",
     "status": "completed"
    },
    "tags": []
   },
   "outputs": [
    {
     "name": "stdout",
     "output_type": "stream",
     "text": [
      "Epoch 1/7, Loss: 0.4137\n",
      "Epoch 2/7, Loss: 0.3913\n",
      "Epoch 3/7, Loss: 0.3666\n",
      "Epoch 4/7, Loss: 0.3448\n",
      "Epoch 5/7, Loss: 0.3249\n",
      "Epoch 6/7, Loss: 0.3078\n",
      "Epoch 7/7, Loss: 0.2929\n"
     ]
    },
    {
     "data": {
      "text/plain": [
       "HybridModel(\n",
       "  (post_net): Sequential(\n",
       "    (0): Linear(in_features=16, out_features=64, bias=True)\n",
       "    (1): ReLU()\n",
       "    (2): Linear(in_features=64, out_features=2, bias=True)\n",
       "  )\n",
       ")"
      ]
     },
     "execution_count": 11,
     "metadata": {},
     "output_type": "execute_result"
    }
   ],
   "source": [
    "for epoch in range(n_epochs):\n",
    "    for i in range(0, len(X_train), batch_size):\n",
    "        batch_X = X_train_tensor[i:i+batch_size]\n",
    "        batch_y = y_train_tensor[i:i+batch_size]\n",
    "\n",
    "        optimizer.zero_grad()\n",
    "        outputs = model(batch_X)\n",
    "        loss = criterion(outputs, batch_y)\n",
    "        loss.backward()\n",
    "        optimizer.step()\n",
    "    if (epoch + 1) % 1 == 0:\n",
    "        print(f\"Epoch {epoch+1}/{n_epochs}, Loss: {loss.item():.4f}\")\n",
    "model.eval()\n"
   ]
  },
  {
   "cell_type": "markdown",
   "id": "aefd28dc",
   "metadata": {
    "papermill": {
     "duration": 0.014084,
     "end_time": "2024-08-09T15:51:30.716888",
     "exception": false,
     "start_time": "2024-08-09T15:51:30.702804",
     "status": "completed"
    },
    "tags": []
   },
   "source": [
    "# Validation Inference\n",
    "\n",
    "For Evaluation I am using a variety of metrics like F1 score,accuracy and AUC-ROC. The primary metric though is the F1 Score, due to high class imbalance. Also False Negatives(that is 1s misclassified as 0s, or defectives classified as non defective) can be harmful for defect detection system, so F1 score is a better metric for evaluation,as it also takes into account false positives and false negatives,"
   ]
  },
  {
   "cell_type": "code",
   "execution_count": 12,
   "id": "9750f115",
   "metadata": {
    "execution": {
     "iopub.execute_input": "2024-08-09T15:51:30.748356Z",
     "iopub.status.busy": "2024-08-09T15:51:30.747055Z",
     "iopub.status.idle": "2024-08-09T15:56:15.973420Z",
     "shell.execute_reply": "2024-08-09T15:56:15.972264Z"
    },
    "papermill": {
     "duration": 285.245474,
     "end_time": "2024-08-09T15:56:15.976602",
     "exception": false,
     "start_time": "2024-08-09T15:51:30.731128",
     "status": "completed"
    },
    "tags": []
   },
   "outputs": [
    {
     "name": "stdout",
     "output_type": "stream",
     "text": [
      "Test Accuracy: 0.9018\n",
      "F1 Score: 0.9285\n",
      "AUC-ROC: 0.9467\n"
     ]
    },
    {
     "data": {
      "image/png": "[encoded data removed]",
      "text/plain": [
       "<Figure size 1000x700 with 2 Axes>"
      ]
     },
     "metadata": {},
     "output_type": "display_data"
    },
    {
     "name": "stdout",
     "output_type": "stream",
     "text": [
      "Confusion Matrix:\n",
      "[[1761  429]\n",
      " [ 226 4251]]\n"
     ]
    }
   ],
   "source": [
    "from sklearn.metrics import accuracy_score, f1_score, roc_auc_score, confusion_matrix\n",
    "\n",
    "import matplotlib.pyplot as plt\n",
    "import seaborn as sns\n",
    "\n",
    "with torch.no_grad():\n",
    "    test_outputs = model(X_test_tensor)\n",
    "    _, predicted = torch.max(test_outputs.data, 1)\n",
    "    accuracy = accuracy_score(y_val, predicted)\n",
    "    print(f\"Test Accuracy: {accuracy:.4f}\")\n",
    "with torch.no_grad():\n",
    "    probabilities = torch.softmax(test_outputs, dim=1)\n",
    "    _, predicted = torch.max(test_outputs.data, 1)\n",
    "    y_true = y_val\n",
    "    y_pred = predicted.numpy()\n",
    "    y_prob = probabilities[:, 1].numpy()\n",
    "    f1 = f1_score(y_true, y_pred)\n",
    "    auc_roc = roc_auc_score(y_true, y_prob)\n",
    "    cm = confusion_matrix(y_true, y_pred)\n",
    "    print(f\"F1 Score: {f1:.4f}\")\n",
    "    print(f\"AUC-ROC: {auc_roc:.4f}\")\n",
    "    plt.figure(figsize=(10,7))\n",
    "    sns.heatmap(cm, annot=True, fmt='d', cmap='Blues')\n",
    "    plt.title('Confusion Matrix')\n",
    "    plt.ylabel('True Label')\n",
    "    plt.xlabel('Predicted Label')\n",
    "    plt.show()\n",
    "\n",
    "print(\"Confusion Matrix:\")\n",
    "print(cm)"
   ]
  },
  {
   "cell_type": "markdown",
   "id": "1d40aafa",
   "metadata": {},
   "source": [
    "The model performs well on the validation dataset, although the high scores in all three metrics can be an indication of overfitting."
   ]
  },
  {
   "cell_type": "markdown",
   "id": "7f19bf3b",
   "metadata": {
    "papermill": {
     "duration": 0.015059,
     "end_time": "2024-08-09T15:56:16.007233",
     "exception": false,
     "start_time": "2024-08-09T15:56:15.992174",
     "status": "completed"
    },
    "tags": []
   },
   "source": [
    "# Test Dataset"
   ]
  },
  {
   "cell_type": "code",
   "execution_count": 13,
   "id": "7e0d5c04",
   "metadata": {
    "execution": {
     "iopub.execute_input": "2024-08-09T15:56:16.040064Z",
     "iopub.status.busy": "2024-08-09T15:56:16.039605Z",
     "iopub.status.idle": "2024-08-09T15:56:28.515959Z",
     "shell.execute_reply": "2024-08-09T15:56:28.514615Z"
    },
    "papermill": {
     "duration": 12.495914,
     "end_time": "2024-08-09T15:56:28.518739",
     "exception": false,
     "start_time": "2024-08-09T15:56:16.022825",
     "status": "completed"
    },
    "tags": []
   },
   "outputs": [],
   "source": [
    "test_json_path = os.path.join(test_dir, 'test.json')\n",
    "\n",
    "with open(test_json_path, 'r') as f:\n",
    "    test_data = json.load(f)\n",
    "test_image_paths = []\n",
    "test_labels = []\n",
    "for image_path, label in test_data.items():\n",
    "    if label in [0, 1,2,3,4,5]:  \n",
    "        full_image_path = os.path.join(test_dir, image_path)\n",
    "        if os.path.exists(full_image_path): \n",
    "            test_image_paths.append(full_image_path)\n",
    "            if label in [2,3,4,5]:\n",
    "                test_labels.append(1)\n",
    "            else:\n",
    "                test_labels.append(label)"
   ]
  },
  {
   "cell_type": "code",
   "execution_count": 14,
   "id": "8d65f0ed",
   "metadata": {
    "execution": {
     "iopub.execute_input": "2024-08-09T15:56:28.551678Z",
     "iopub.status.busy": "2024-08-09T15:56:28.551264Z",
     "iopub.status.idle": "2024-08-09T15:58:22.902244Z",
     "shell.execute_reply": "2024-08-09T15:58:22.900431Z"
    },
    "papermill": {
     "duration": 114.399588,
     "end_time": "2024-08-09T15:58:22.933820",
     "exception": false,
     "start_time": "2024-08-09T15:56:28.534232",
     "status": "completed"
    },
    "tags": []
   },
   "outputs": [
    {
     "name": "stdout",
     "output_type": "stream",
     "text": [
      "Counter({1: 17908, 0: 8758})\n"
     ]
    }
   ],
   "source": [
    "test_images = np.array([load_and_preprocess_image(img_path) for img_path in test_image_paths])\n",
    "test_labels = np.array(test_labels)\n",
    "from sklearn.decomposition import PCA\n",
    "X_test = pca.transform(test_images)\n",
    "y_test=test_labels\n",
    "print(Counter(labels))"
   ]
  },
  {
   "cell_type": "code",
   "execution_count": 15,
   "id": "78baf1a1",
   "metadata": {
    "execution": {
     "iopub.execute_input": "2024-08-09T15:58:23.004944Z",
     "iopub.status.busy": "2024-08-09T15:58:23.004484Z",
     "iopub.status.idle": "2024-08-09T16:03:09.063423Z",
     "shell.execute_reply": "2024-08-09T16:03:09.062086Z"
    },
    "papermill": {
     "duration": 286.113343,
     "end_time": "2024-08-09T16:03:09.082099",
     "exception": false,
     "start_time": "2024-08-09T15:58:22.968756",
     "status": "completed"
    },
    "tags": []
   },
   "outputs": [
    {
     "name": "stdout",
     "output_type": "stream",
     "text": [
      "Test Accuracy: 0.7705\n"
     ]
    }
   ],
   "source": [
    "from sklearn.preprocessing import MinMaxScaler\n",
    "X_test = scaler.transform(X_test)\n",
    "X_test_tensor = torch.FloatTensor(X_test)\n",
    "y_test_tensor = torch.LongTensor(y_test)\n",
    "with torch.no_grad():\n",
    "    test_outputs = model(X_test_tensor)\n",
    "    _, predicted = torch.max(test_outputs.data, 1)\n",
    "    accuracy = accuracy_score(y_test, predicted)\n",
    "    print(f\"Test Accuracy: {accuracy:.4f}\")\n"
   ]
  },
  {
   "cell_type": "code",
   "execution_count": 16,
   "id": "004911ed",
   "metadata": {
    "execution": {
     "iopub.execute_input": "2024-08-09T16:03:09.115324Z",
     "iopub.status.busy": "2024-08-09T16:03:09.114903Z",
     "iopub.status.idle": "2024-08-09T16:03:09.440512Z",
     "shell.execute_reply": "2024-08-09T16:03:09.439321Z"
    },
    "papermill": {
     "duration": 0.346617,
     "end_time": "2024-08-09T16:03:09.444547",
     "exception": false,
     "start_time": "2024-08-09T16:03:09.097930",
     "status": "completed"
    },
    "tags": []
   },
   "outputs": [
    {
     "name": "stdout",
     "output_type": "stream",
     "text": [
      "F1 Score: 0.8383\n",
      "AUC-ROC: 0.8568\n"
     ]
    },
    {
     "data": {
      "image/png": "[encoded data removed]",
      "text/plain": [
       "<Figure size 1000x700 with 2 Axes>"
      ]
     },
     "metadata": {},
     "output_type": "display_data"
    },
    {
     "name": "stdout",
     "output_type": "stream",
     "text": [
      "Confusion Matrix:\n",
      "[[1158 1031]\n",
      " [ 481 3918]]\n"
     ]
    }
   ],
   "source": [
    "import torch\n",
    "from sklearn.metrics import accuracy_score, f1_score, roc_auc_score, confusion_matrix\n",
    "import numpy as np\n",
    "import matplotlib.pyplot as plt\n",
    "import seaborn as sns\n",
    "\n",
    "with torch.no_grad():\n",
    "    probabilities = torch.softmax(test_outputs, dim=1)\n",
    "    _, predicted = torch.max(test_outputs.data, 1)\n",
    "    y_true = y_test\n",
    "    y_pred = predicted.numpy()\n",
    "    y_prob = probabilities[:, 1].numpy() \n",
    "    f1 = f1_score(y_true, y_pred)\n",
    "    auc_roc = roc_auc_score(y_true, y_prob)\n",
    "    cm = confusion_matrix(y_true, y_pred)\n",
    "    print(f\"F1 Score: {f1:.4f}\")\n",
    "    print(f\"AUC-ROC: {auc_roc:.4f}\")\n",
    "\n",
    "    plt.figure(figsize=(10,7))\n",
    "    sns.heatmap(cm, annot=True, fmt='d', cmap='Blues')\n",
    "    plt.title('Confusion Matrix')\n",
    "    plt.ylabel('True Label')\n",
    "    plt.xlabel('Predicted Label')\n",
    "    plt.show()\n",
    "\n",
    "print(\"Confusion Matrix:\")\n",
    "print(cm)"
   ]
  },
  {
   "cell_type": "markdown",
   "id": "2785a143",
   "metadata": {
    "papermill": {
     "duration": 0.016096,
     "end_time": "2024-08-09T16:03:09.477435",
     "exception": false,
     "start_time": "2024-08-09T16:03:09.461339",
     "status": "completed"
    },
    "tags": []
   },
   "source": [
    "The accuracy and the F1 score, as we can see is pretty low compared to the validation dataset. This can be termed overfitting. To alleviate it I tried using Data Augmentation techniques, KFold, SMOTE, UnderSampling, though the results did not show any improvement.\n",
    "\n",
    "To further improve the performance of model, I planned to use Quantum Dropout Technique, but I was unable to get it to work. But Quantum Dropout, like its classical counterpart, could have helped alleviate the overfitting problem."
   ]
  },
  {
   "cell_type": "markdown",
   "id": "1ce15d55",
   "metadata": {
    "papermill": {
     "duration": 0.016148,
     "end_time": "2024-08-09T16:03:09.509932",
     "exception": false,
     "start_time": "2024-08-09T16:03:09.493784",
     "status": "completed"
    },
    "tags": []
   },
   "source": [
    "# **Quonvolutional approach**\n",
    "\n",
    "Rather than using fully connected neural network as int he above case,we can use a quantum convolution network. This circuit though takes a large time for preprocessing of images,as comapred to the above methoda, however this way we retain more information from the images,as the neither do we have to use PCA to reduce dimensions nor do we have to tune a large number of apramters as in the case of a fully connected neural network.\n",
    "This approach is followed in the second notebook."
   ]
  }
 ],
 "metadata": {
  "kaggle": {
   "accelerator": "none",
   "dataSources": [
    {
     "datasetId": 63362,
     "sourceId": 123140,
     "sourceType": "datasetVersion"
    }
   ],
   "dockerImageVersionId": 30746,
   "isGpuEnabled": false,
   "isInternetEnabled": true,
   "language": "python",
   "sourceType": "notebook"
  },
  "kernelspec": {
   "display_name": "Python 3",
   "language": "python",
   "name": "python3"
  },
  "language_info": {
   "codemirror_mode": {
    "name": "ipython",
    "version": 3
   },
   "file_extension": ".py",
   "mimetype": "text/x-python",
   "name": "python",
   "nbconvert_exporter": "python",
   "pygments_lexer": "ipython3",
   "version": "3.10.13"
  },
  "papermill": {
   "default_parameters": {},
   "duration": 7997.683823,
   "end_time": "2024-08-09T16:03:12.905414",
   "environment_variables": {},
   "exception": null,
   "input_path": "__notebook__.ipynb",
   "output_path": "__notebook__.ipynb",
   "parameters": {},
   "start_time": "2024-08-09T13:49:55.221591",
   "version": "2.5.0"
  }
 },
 "nbformat": 4,
 "nbformat_minor": 5
}
